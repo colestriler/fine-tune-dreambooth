{
 "cells": [
  {
   "cell_type": "code",
   "execution_count": 1,
   "id": "86216b40-582b-45db-903a-a16a8e4e6bd0",
   "metadata": {},
   "outputs": [],
   "source": [
    "import dotenv\n",
    "import os\n",
    "import requests\n",
    "import json\n",
    "import openai\n",
    "from IPython.display import Image"
   ]
  },
  {
   "cell_type": "code",
   "execution_count": 4,
   "id": "91142be5-750d-4aca-abe1-f059a12e9327",
   "metadata": {},
   "outputs": [],
   "source": [
    "# Access variables\n",
    "dotenv.load_dotenv('.env')\n",
    "\n",
    "stable_diffusion_api_key = os.getenv('STABLE_DIFFUSION_API_KEY')\n",
    "openai.api_key = os.getenv(\"OPENAI_API_KEY\")"
   ]
  },
  {
   "cell_type": "markdown",
   "id": "a9eb4e71-7b70-4285-851c-51ae4fc083f8",
   "metadata": {},
   "source": [
    "## Table of Contents:\n",
    "MESSAGE\n",
    "* [Generate the card message](#Generate-the-card-message)\n",
    "* [Generate the prompt for the image](#Generate-the-prompt-for-the-image)\n",
    "\n",
    "Process:\n",
    "- User selects day & month. We determine zodiac sign\n",
    "- Build a prompt & generate message\n",
    "- Use that message to generate prompt that generates the img"
   ]
  },
  {
   "cell_type": "markdown",
   "id": "714a4999-fd11-46de-9998-9dc2e5175e4b",
   "metadata": {},
   "source": [
    "### Generate the card message"
   ]
  },
  {
   "cell_type": "code",
   "execution_count": 9,
   "id": "c9e259bc-7ef6-4a28-ba2c-c8e63deb51ea",
   "metadata": {},
   "outputs": [],
   "source": [
    "message_prompt = \"\"\"Give me a birthday card message with an astrology prediction \n",
    "for the upcoming year for a person born on 3/24. Their zodiac sign is Aries. \n",
    "Make it personal and keep it around one paragraph in length. Do not mention their \n",
    "birthday in the response. Focus on the astrology prediction for the upcoming year. \n",
    "Do not include salutations or complimentary closings.\"\"\""
   ]
  },
  {
   "cell_type": "code",
   "execution_count": 10,
   "id": "828c370e-a31e-4d82-9b28-a867ceea1a52",
   "metadata": {},
   "outputs": [],
   "source": [
    "message_response = openai.ChatCompletion.create(\n",
    "    model=\"gpt-3.5-turbo\",\n",
    "    messages=[\n",
    "        {\"role\": \"system\", \"content\": \"You are a birthday card writer and astrology predictor.\"},\n",
    "        {\"role\": \"user\", \"content\": message_prompt},\n",
    "    ]\n",
    ")"
   ]
  },
  {
   "cell_type": "code",
   "execution_count": 11,
   "id": "c1562e74-2b08-4767-86f1-a0e22d31db5b",
   "metadata": {},
   "outputs": [
    {
     "data": {
      "text/plain": [
       "'As the sun enters your sign, dear Aries, exciting times lie ahead for you in the upcoming year. Your fiery spirit and courageous nature will be at their peak, propelling you towards new opportunities and adventures. Embrace your natural leadership skills, as they will bring you success in both your personal and professional life. However, remember to balance your enthusiasm with patience and diplomacy. This year, your natural talents will be recognized, leading to new friendships and connections that will lift you higher. Trust your instincts and believe in your abilities, for they will guide you towards your highest aspirations. Embrace change and let go of what no longer serves you - it will pave the way for transformative growth. Stay true to yourself, Aries, and watch as the universe aligns to make your dreams a reality.'"
      ]
     },
     "execution_count": 11,
     "metadata": {},
     "output_type": "execute_result"
    }
   ],
   "source": [
    "message_response.choices[0].message.content"
   ]
  },
  {
   "cell_type": "markdown",
   "id": "929ad634-840a-4c2c-87cd-7a4b0231b30e",
   "metadata": {},
   "source": [
    "### Generate the prompt for the image"
   ]
  },
  {
   "cell_type": "code",
   "execution_count": 12,
   "id": "5d3fbc03-2108-4905-9b50-e7b5192ac21d",
   "metadata": {},
   "outputs": [],
   "source": [
    "prompt_for_image_prompt = f\"\"\"The following is a zodiac prediction for a person \n",
    "for the upcoming year. Generate a prompt that will create a highres image of the \n",
    "person living in their prediction. Only return the prompt with no decoration: {message_prompt}\"\"\""
   ]
  },
  {
   "cell_type": "code",
   "execution_count": 13,
   "id": "cab64c5f-ae62-44ca-8977-a1f3fce61d9f",
   "metadata": {},
   "outputs": [],
   "source": [
    "image_prompt_response = openai.ChatCompletion.create(\n",
    "    model=\"gpt-3.5-turbo\",\n",
    "    messages=[\n",
    "        {\"role\": \"system\", \"content\": \"You are a prompt creator.\"},\n",
    "        {\"role\": \"user\", \"content\": prompt_for_image_prompt}\n",
    "    ]\n",
    ")"
   ]
  },
  {
   "cell_type": "code",
   "execution_count": 14,
   "id": "ee487fe1-0d70-4fb1-8d97-155ce34bf920",
   "metadata": {},
   "outputs": [
    {
     "data": {
      "text/plain": [
       "'Create a high-resolution image that depicts a person born on 3/24, an Aries, living out their astrology prediction for the upcoming year.'"
      ]
     },
     "execution_count": 14,
     "metadata": {},
     "output_type": "execute_result"
    }
   ],
   "source": [
    "image_prompt_response.choices[0].message.content"
   ]
  },
  {
   "cell_type": "code",
   "execution_count": null,
   "id": "fdbc868f-88e9-4c13-8da1-650eb37f9fa5",
   "metadata": {},
   "outputs": [],
   "source": []
  }
 ],
 "metadata": {
  "kernelspec": {
   "display_name": "Python 3 (ipykernel)",
   "language": "python",
   "name": "python3"
  },
  "language_info": {
   "codemirror_mode": {
    "name": "ipython",
    "version": 3
   },
   "file_extension": ".py",
   "mimetype": "text/x-python",
   "name": "python",
   "nbconvert_exporter": "python",
   "pygments_lexer": "ipython3",
   "version": "3.9.13"
  }
 },
 "nbformat": 4,
 "nbformat_minor": 5
}
