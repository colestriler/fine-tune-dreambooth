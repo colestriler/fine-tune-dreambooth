{
 "cells": [
  {
   "cell_type": "code",
   "execution_count": 208,
   "id": "8ed0efc8-ee7d-421a-a676-229cd8e19353",
   "metadata": {},
   "outputs": [],
   "source": [
    "import os\n",
    "import dotenv\n",
    "import requests\n",
    "import json\n",
    "from io import BytesIO\n",
    "import time\n",
    "\n",
    "from IPython.display import display, Image, HTML\n",
    "import openai\n",
    "import pandas as pd\n",
    "\n",
    "import matplotlib.pyplot as plt\n",
    "import matplotlib.image as mpimg\n",
    "from matplotlib import rcParams"
   ]
  },
  {
   "cell_type": "code",
   "execution_count": 18,
   "id": "34a07716-e75d-4fa1-b4c9-3e6c9e46601f",
   "metadata": {},
   "outputs": [],
   "source": [
    "# Access variables\n",
    "dotenv.load_dotenv('.env')\n",
    "\n",
    "stable_diffusion_api_key = os.getenv('STABLE_DIFFUSION_API_KEY')\n",
    "openai.api_key = os.getenv(\"OPENAI_API_KEY\")"
   ]
  },
  {
   "cell_type": "markdown",
   "id": "f53a9a0c-e684-42e3-a9e5-f89414fd0e0c",
   "metadata": {},
   "source": [
    "## Table of Contents (outdated):\n",
    "\n",
    "IMAGE\n",
    "* [Fine-tuning model](#Fine-tuning-model)\n",
    "    * [Check training status](#Check-training-status)\n",
    "* [Generate new image](#Generate-new-image)\n",
    "* [Images for prompts](#Images-for-prompts)\n",
    "    * [Prompt 3](#Prompt-3)\n",
    " \n",
    "\n",
    "### Prompt tuning resources:\n",
    "- [https://stable-diffusion-art.com/prompt-guide/](https://stable-diffusion-art.com/prompt-guide/)\n",
    "- [https://midlibrary.io/styles/metal-gear-solid](https://midlibrary.io/styles/metal-gear-solid)\n",
    "- [https://prompthero.com/stable-diffusion-prompt-guide](https://prompthero.com/stable-diffusion-prompt-guide)\n",
    "- [Example prompts](https://www.fotor.com/blog/stable-diffusion-prompts/)\n",
    "\n",
    "\n",
    "### Keyword categories:\n",
    "1. **Subject**: The subject is what you want to see in the image. A common mistake is not writing enough about the subjects.\n",
    "2. **Medium**: Medium is the material used to make artwork. Some examples are illustration, oil painting, 3D rendering, and photography. Medium has a strong effect because one keyword alone can dramatically change the style.\n",
    "3. **Style**: The style refers to the artistic style of the image. Examples include impressionist, surrealist, pop art, etc.\n",
    "4. **Artist**: Artist names are strong modifiers. They allow you to dial in the exact style using a particular artist as a reference. It is also common to use multiple artist names to blend their styles. Now let’s add Stanley Artgerm Lau, a superhero comic artist, and Alphonse Mucha, a portrait painter in the 19th century.\n",
    "5. **Website**: Niche graphic websites such as Artstation and Deviant Art aggregate many images of distinct genres. Using them in a prompt is a sure way to steer the image toward these styles.\n",
    "6. **Resolution**: Resolution represents how sharp and detailed the image is. Let’s add keywords highly detailed and sharp focus.\n",
    "7. **Additional details**: Additional details are sweeteners added to modify an image. We will add sci-fi, stunningly beautiful and dystopian to add some vibe to the image.\n",
    "8. **Color**: You can control the overall color of the image by adding color keywords. The colors you specified may appear as a tone or in objects.\n",
    "9. **Lighting**: Any photographer would tell you lighting is a key factor in creating successful images. Lighting keywords can have a huge effect on how the image looks. Let’s add cinematic lighting and dark to the prompt.\n",
    "\n",
    "\n",
    "Order matters:\n",
    "content type > description > style > composition\n",
    "- **Content type**: What type of artwork you want to achieve? Is it a photograph, drawing, sketch, 3D render..?\n",
    "- **Description**: define the subject, subject attributes, environment/scene. The more descriptive you are with the use of adjectives, the better the output.\n",
    "- **Style**: we’ve seen the most common ones above, but there are also “sub-categories” – lightning, detail…\n",
    "- **Composition**: it refers to aspect ratio, camera view and resolution."
   ]
  },
  {
   "cell_type": "code",
   "execution_count": 19,
   "id": "bd71d72f-d065-412c-89de-8852323bbf45",
   "metadata": {},
   "outputs": [],
   "source": [
    "message_prompt = \"\"\"Give me a birthday card message with an astrology prediction \n",
    "for the upcoming year for a person born on 3/24. Their zodiac sign is Aries. \n",
    "Make it personal and keep it around one paragraph in length. Do not mention their \n",
    "birthday in the response. Focus on the astrology prediction for the upcoming year. \n",
    "Do not include salutations or complimentary closings.\"\"\""
   ]
  },
  {
   "cell_type": "code",
   "execution_count": 26,
   "id": "ef647299-74c1-4370-ae1f-14d8971f1ea7",
   "metadata": {},
   "outputs": [],
   "source": [
    "message_response = openai.ChatCompletion.create(\n",
    "    model=\"gpt-3.5-turbo\",\n",
    "    messages=[\n",
    "        {\"role\": \"system\", \"content\": \"You are a birthday card writer and astrology predictor.\"},\n",
    "        {\"role\": \"user\", \"content\": message_prompt},\n",
    "    ]\n",
    ")"
   ]
  },
  {
   "cell_type": "code",
   "execution_count": 27,
   "id": "811b1ce6-afac-4058-a3a6-89811ad37d66",
   "metadata": {},
   "outputs": [
    {
     "data": {
      "text/plain": [
       "'Happy birthday to an adventurous and passionate Aries! As the stars align for you this year, get ready for an exciting journey filled with new beginnings, personal growth, and abundant opportunities. Your courageous nature will be your greatest strength, pushing you to step out of your comfort zone and embrace bold challenges. The universe will fuel your ambition, allowing you to manifest your dreams and achieve remarkable success. However, remember to balance your fiery energy with patience and diplomacy, as it will be key to maintaining harmonious relationships. Trust your instincts, trust the universe, and prepare for a year of extraordinary possibilities.'"
      ]
     },
     "execution_count": 27,
     "metadata": {},
     "output_type": "execute_result"
    }
   ],
   "source": [
    "message_response.choices[0].message.content"
   ]
  },
  {
   "cell_type": "code",
   "execution_count": 20,
   "id": "e437a0ff-1683-4594-9895-e7ba6c04452c",
   "metadata": {},
   "outputs": [],
   "source": [
    "df = pd.DataFrame()"
   ]
  },
  {
   "cell_type": "markdown",
   "id": "62e93946-4011-4f0d-9665-5a169850015c",
   "metadata": {},
   "source": [
    "# Fine-tuning model\n",
    "Note: images must be cropped to 512 x 512 pixels"
   ]
  },
  {
   "cell_type": "markdown",
   "id": "43208355-f20a-40b0-b6fd-b26321c88851",
   "metadata": {},
   "source": [
    "Model Output:\n",
    "```\n",
    "{\n",
    "    \"status\":\"success\",\n",
    "    \"messege\":\"deploying_gpu\",\n",
    "    \"data\":\"it will take upto 45 minutes.\",\n",
    "    \"training_id\":\"2utUQxLpZbNoAJh05TWMvcHDq\",\n",
    "    \"model_id\":\"2utUQxLpZbNoAJh05TWMvcHDq\"\n",
    "}\n",
    "```"
   ]
  },
  {
   "cell_type": "code",
   "execution_count": 13,
   "id": "196afa1a-10e7-4a54-9e83-6d384f24b82d",
   "metadata": {},
   "outputs": [
    {
     "name": "stdout",
     "output_type": "stream",
     "text": [
      "{\"status\":\"success\",\"messege\":\"deploying_gpu\",\"data\":\"it will take upto 45 minutes.\",\"training_id\":\"2utUQxLpZbNoAJh05TWMvcHDq\",\"model_id\":\"2utUQxLpZbNoAJh05TWMvcHDq\"}\n"
     ]
    }
   ],
   "source": [
    "url = \"https://stablediffusionapi.com/api/v3/fine_tune\"\n",
    "\n",
    "payload = json.dumps({\n",
    "  \"key\": stable_diffusion_api_key,\n",
    "  \"instance_prompt\": \"photo of adhik person\",\n",
    "  \"class_prompt\": \"photo of person\",\n",
    "  \"base_model_id\": \"portraitplus-diffusion\",\n",
    "  \"images\": [\n",
    "    \"https://birthdate-public.s3.amazonaws.com/user-uploads/train_1.png\",\n",
    "    \"https://birthdate-public.s3.amazonaws.com/user-uploads/train_2.png\",\n",
    "    \"https://birthdate-public.s3.amazonaws.com/user-uploads/train_3.png\",\n",
    "    \"https://birthdate-public.s3.amazonaws.com/user-uploads/train_4.png\",\n",
    "    \"https://birthdate-public.s3.amazonaws.com/user-uploads/train_5.png\",\n",
    "    \"https://birthdate-public.s3.amazonaws.com/user-uploads/train_6.png\",\n",
    "    \"https://birthdate-public.s3.amazonaws.com/user-uploads/train_7.png\",\n",
    "    \"https://birthdate-public.s3.amazonaws.com/user-uploads/train_8.png\",\n",
    "    \"https://birthdate-public.s3.amazonaws.com/user-uploads/train_9.png\",\n",
    "    \"https://birthdate-public.s3.amazonaws.com/user-uploads/train_10.png\"\n",
    "  ],\n",
    "  \"seed\": \"0\",\n",
    "  \"training_type\": \"men\",\n",
    "  \"max_train_steps\": \"2000\",\n",
    "  \"webhook\": \"\"\n",
    "})\n",
    "\n",
    "headers = {\n",
    "  'Content-Type': 'application/json'\n",
    "}\n",
    "\n",
    "training_response = requests.request(\"POST\", url, headers=headers, data=payload)\n",
    "training_response_json = json.loads(response.text)\n",
    "print(training_response_json)"
   ]
  },
  {
   "cell_type": "code",
   "execution_count": 43,
   "id": "eaac5ece-0b2a-4b0d-bd5b-401238753563",
   "metadata": {},
   "outputs": [],
   "source": [
    "# model_id = response_json[\"model_id\"]\n",
    "model_id = \"2utUQxLpZbNoAJh05TWMvcHDq\"\n",
    "# training_id = response_json[\"training_id\"]\n",
    "training_id = \"2utUQxLpZbNoAJh05TWMvcHDq\""
   ]
  },
  {
   "cell_type": "markdown",
   "id": "3527a3b9-3527-4273-9ea2-35a0242d238e",
   "metadata": {},
   "source": [
    "# Check training status"
   ]
  },
  {
   "cell_type": "code",
   "execution_count": 9,
   "id": "77815065-b64d-4f51-8eae-a4b0b94229ad",
   "metadata": {
    "scrolled": true
   },
   "outputs": [],
   "source": [
    "url = f\"https://stablediffusionapi.com/api/v3/fine_tune_status/{model_id}\"\n",
    "\n",
    "payload = json.dumps({\n",
    " \"key\": stable_diffusion_api_key\n",
    "})\n",
    "\n",
    "headers = {\n",
    "  'Content-Type': 'application/json'\n",
    "}\n",
    "\n",
    "training_status_response = requests.request(\"POST\", url, headers=headers, data=payload)"
   ]
  },
  {
   "cell_type": "code",
   "execution_count": 10,
   "id": "fa1256a8-3bff-4ae6-8f52-167199c04109",
   "metadata": {},
   "outputs": [],
   "source": [
    "training_status_response_json = json.loads(training_status_response.text)"
   ]
  },
  {
   "cell_type": "code",
   "execution_count": 11,
   "id": "55dc19db-0707-4fed-b1c7-22a0042a1f8a",
   "metadata": {},
   "outputs": [
    {
     "name": "stdout",
     "output_type": "stream",
     "text": [
      "Model is ready to use\n",
      "0 minutes\n",
      "https://pub-3626123a908346a7a8be8d9295f44e26.r2.dev/trained-models/2utUQxLpZbNoAJh05TWMvcHDq.tar.gz\n",
      "https://pub-3626123a908346a7a8be8d9295f44e26.r2.dev/generations/2utUQxLpZbNoAJh05TWMvcHDq.png\n"
     ]
    }
   ],
   "source": [
    "print(training_status_response_json[\"message\"])\n",
    "print(training_status_response_json[\"eta\"])\n",
    "print(training_status_response_json[\"model_download_link\"])\n",
    "print(training_status_response_json[\"test_image\"])"
   ]
  },
  {
   "cell_type": "markdown",
   "id": "3cc1ecbe-2216-4c63-a793-e36f07e2deb7",
   "metadata": {},
   "source": [
    "# Generate new image"
   ]
  },
  {
   "cell_type": "code",
   "execution_count": 327,
   "id": "5584e5bd-1ea6-4ad0-8e4b-15745409907a",
   "metadata": {},
   "outputs": [],
   "source": [
    "negative_prompt = \"\"\"multiple figures, duplicate characters, twin images, painting, \\\n",
    "cloned individuals, extra fingers, mutated hands, poorly drawn hands, \\\n",
    "poorly drawn face, deformed, ugly, blurry, bad anatomy, bad proportions, extra limbs, \\\n",
    "cloned face, skinny, glitchy, double torso, extra arms, extra hands, mangled fingers, \\\n",
    "missing lips, ugly face, distorted face, extra legs, anime, naked, no shirt\"\"\"\n",
    "\n",
    "model_config = {\n",
    "  \"key\": stable_diffusion_api_key,\n",
    "  \"model_id\": model_id,\n",
    "  \"prompt\": \"\",\n",
    "  \"negative_prompt\": negative_prompt,\n",
    "  \"width\": \"1024\",\n",
    "  \"height\": \"728\",\n",
    "  \"samples\": \"1\",\n",
    "  \"num_inference_steps\": \"30\",\n",
    "  \"safety_checker\": \"no\",\n",
    "  \"enhance_prompt\": \"yes\",\n",
    "  \"seed\": None,\n",
    "  \"guidance_scale\": 7.5,\n",
    "  \"multi_lingual\": \"no\",\n",
    "  \"panorama\": \"no\",\n",
    "  \"self_attention\": \"yes\",\n",
    "  \"upscale\": \"yes\",\n",
    "  \"embeddings_model\": None,\n",
    "  \"lora_model\": None,\n",
    "  \"tomesd\": \"yes\",\n",
    "  \"use_karras_sigmas\": \"yes\",\n",
    "  \"vae\": None,\n",
    "  \"lora_strength\": None,\n",
    "  \"scheduler\": \"UniPCMultistepScheduler\",\n",
    "  \"webhook\": None,\n",
    "  \"track_id\": None\n",
    "}\n",
    "\n",
    "payload = json.dumps(model_config)"
   ]
  },
  {
   "cell_type": "code",
   "execution_count": 343,
   "id": "f8d343bb-accf-461e-979e-448897200959",
   "metadata": {},
   "outputs": [],
   "source": [
    "headers = {\n",
    "  'Content-Type': 'application/json'\n",
    "}\n",
    "\n",
    "def generate_img(prompt, config_override):\n",
    "    options = {\"prompt\": prompt}\n",
    "    config = json.dumps({**config_override, **options})  # Merge dictionaries using dictionary unpacking\n",
    "    response = requests.request(\"POST\", \"https://stablediffusionapi.com/api/v4/dreambooth\", headers=headers, data=config)\n",
    "    response_json = json.loads(response.text)\n",
    "    return response_json\n",
    "\n",
    "def create(prompt, num_runs=4, options={}):\n",
    "    combined_config = {**model_config, **options}\n",
    "    image_urls = []\n",
    "\n",
    "    print(f\"Base prompt: {prompt}\")\n",
    "    \n",
    "    for run in range(num_runs):\n",
    "        response_json = generate_img(prompt, combined_config)\n",
    "        \n",
    "        # Assuming each 'future_link' in 'future_links' is a URL for a different sample image\n",
    "        image_urls.extend(response_json[\"future_links\"])\n",
    "    \n",
    "    return image_urls\n",
    "\n",
    "def display_images(image_urls):\n",
    "    headers = {\n",
    "        \"User-Agent\": \"Mozilla/5.0 (Windows NT 10.0; Win64; x64) AppleWebKit/537.36 (KHTML, like Gecko) Chrome/58.0.3029.110 Safari/537.3\"\n",
    "    }\n",
    "\n",
    "    def fetch_image(url):\n",
    "        response = requests.get(url, headers=headers)\n",
    "        # Return an HTML img element\n",
    "        return f'<img src=\"{url}\" style=\"display:inline-block; margin:1px; width:300px;\" />'\n",
    "\n",
    "    images_html = [fetch_image(url) for url in image_urls]\n",
    "    \n",
    "    # Join all img elements into a single string of HTML and display it\n",
    "    display(HTML(''.join(images_html)))\n"
   ]
  },
  {
   "cell_type": "code",
   "execution_count": 191,
   "id": "1f77d731-83e0-42cb-bd3e-5b90ec4525ef",
   "metadata": {},
   "outputs": [
    {
     "name": "stdout",
     "output_type": "stream",
     "text": [
      "Image #1: adhik digital art\n",
      "Image #2: adhik digital art motorcycle\n"
     ]
    }
   ],
   "source": [
    "urls = create(\"adhik, digital art, motorcycle\")"
   ]
  },
  {
   "cell_type": "code",
   "execution_count": 194,
   "id": "7fc20b67-22e2-4754-ba59-4cb748dbf977",
   "metadata": {},
   "outputs": [
    {
     "data": {
      "text/html": [
       "<img src=\"https://cdn2.stablediffusionapi.com/generations/0-36ea5b45-2ac2-40bd-a476-f2a6b737dee7.png\" style=\"display:inline-block; margin:1px; width:300px;\" /><img src=\"https://cdn2.stablediffusionapi.com/generations/0-f2cea0f3-6b1c-422d-9806-bd3eea60fad9.png\" style=\"display:inline-block; margin:1px; width:300px;\" /><img src=\"https://cdn2.stablediffusionapi.com/generations/0-f8d89236-1691-4b18-a3d4-ba2e005bcf19.png\" style=\"display:inline-block; margin:1px; width:300px;\" />"
      ],
      "text/plain": [
       "<IPython.core.display.HTML object>"
      ]
     },
     "metadata": {},
     "output_type": "display_data"
    }
   ],
   "source": [
    "display_images(urls)"
   ]
  },
  {
   "cell_type": "code",
   "execution_count": 231,
   "id": "c0f16614-8578-4b0f-8f06-eb11f8da0e53",
   "metadata": {},
   "outputs": [
    {
     "name": "stdout",
     "output_type": "stream",
     "text": [
      "Base prompt: adhik\n",
      "Prompt #2: adhik, sun\n",
      "Prompt #3: adhik, sun, nature\n",
      "Prompt #4: adhik, sun, nature, trees\n"
     ]
    },
    {
     "data": {
      "text/plain": [
       "['https://cdn2.stablediffusionapi.com/generations/0-94c8ec07-4263-4ec1-86af-9c01f98b35d5.png',\n",
       " 'https://cdn2.stablediffusionapi.com/generations/0-2ffedd53-792a-4edd-bbba-369f3ebc907b.png',\n",
       " 'https://cdn2.stablediffusionapi.com/generations/0-902e7310-d7ff-4a01-90d6-f32c32fc07af.png',\n",
       " 'https://cdn2.stablediffusionapi.com/generations/0-a46092e1-94dc-4e6f-ac93-1dc4c2fd1c8f.png']"
      ]
     },
     "execution_count": 231,
     "metadata": {},
     "output_type": "execute_result"
    }
   ],
   "source": [
    "imgs_3 = create(\"adhik\")\n",
    "imgs_3"
   ]
  },
  {
   "cell_type": "code",
   "execution_count": 236,
   "id": "b678bd5a-3aa5-4f69-bb17-72f402aa9374",
   "metadata": {},
   "outputs": [
    {
     "data": {
      "text/html": [
       "<img src=\"https://cdn2.stablediffusionapi.com/generations/0-94c8ec07-4263-4ec1-86af-9c01f98b35d5.png\" style=\"display:inline-block; margin:1px; width:300px;\" /><img src=\"https://cdn2.stablediffusionapi.com/generations/0-2ffedd53-792a-4edd-bbba-369f3ebc907b.png\" style=\"display:inline-block; margin:1px; width:300px;\" /><img src=\"https://cdn2.stablediffusionapi.com/generations/0-902e7310-d7ff-4a01-90d6-f32c32fc07af.png\" style=\"display:inline-block; margin:1px; width:300px;\" /><img src=\"https://cdn2.stablediffusionapi.com/generations/0-a46092e1-94dc-4e6f-ac93-1dc4c2fd1c8f.png\" style=\"display:inline-block; margin:1px; width:300px;\" />"
      ],
      "text/plain": [
       "<IPython.core.display.HTML object>"
      ]
     },
     "metadata": {},
     "output_type": "display_data"
    }
   ],
   "source": [
    "display_images(imgs_3)"
   ]
  },
  {
   "cell_type": "markdown",
   "id": "47661a0f-b1da-4531-ad1b-4d1eaceaeaa0",
   "metadata": {},
   "source": [
    "Arthur Adams [https://midlibrary.io/styles/arthur-adams](https://midlibrary.io/styles/arthur-adams)"
   ]
  },
  {
   "cell_type": "code",
   "execution_count": 237,
   "id": "12da2554-4568-4522-a2ca-7aad87f9eb55",
   "metadata": {},
   "outputs": [
    {
     "name": "stdout",
     "output_type": "stream",
     "text": [
      "Base prompt: adhik\n",
      "Prompt #2: adhik, by Arthur Adams\n"
     ]
    },
    {
     "data": {
      "text/plain": [
       "['https://cdn2.stablediffusionapi.com/generations/0-50850044-2f85-43b7-8fdd-10c6599203a5.png',\n",
       " 'https://cdn2.stablediffusionapi.com/generations/0-fb5eff68-767c-4e81-b3e7-ae598d7d30d4.png']"
      ]
     },
     "execution_count": 237,
     "metadata": {},
     "output_type": "execute_result"
    }
   ],
   "source": [
    "imgs_4 = create(\"adhik by Arthur Adams\")\n",
    "imgs_4"
   ]
  },
  {
   "cell_type": "code",
   "execution_count": 242,
   "id": "96d91a00-8122-4031-96db-8bf477eac4a5",
   "metadata": {},
   "outputs": [
    {
     "data": {
      "text/html": [
       "<img src=\"https://cdn2.stablediffusionapi.com/generations/0-50850044-2f85-43b7-8fdd-10c6599203a5.png\" style=\"display:inline-block; margin:1px; width:300px;\" /><img src=\"https://cdn2.stablediffusionapi.com/generations/0-fb5eff68-767c-4e81-b3e7-ae598d7d30d4.png\" style=\"display:inline-block; margin:1px; width:300px;\" />"
      ],
      "text/plain": [
       "<IPython.core.display.HTML object>"
      ]
     },
     "metadata": {},
     "output_type": "display_data"
    }
   ],
   "source": [
    "display_images(imgs_4)"
   ]
  },
  {
   "cell_type": "code",
   "execution_count": 240,
   "id": "ba315988-b5ca-4bee-8ab2-bce5d122d30e",
   "metadata": {},
   "outputs": [
    {
     "name": "stdout",
     "output_type": "stream",
     "text": [
      "Base prompt: adhik\n",
      "Prompt #2: adhik, by Charles Angrand\n"
     ]
    },
    {
     "data": {
      "text/plain": [
       "['https://cdn2.stablediffusionapi.com/generations/0-5da139fe-a3e7-41b0-a36d-3a19a79f4cd6.png',\n",
       " 'https://cdn2.stablediffusionapi.com/generations/0-c45054fb-7316-47e2-8637-7912dcf01173.png']"
      ]
     },
     "execution_count": 240,
     "metadata": {},
     "output_type": "execute_result"
    }
   ],
   "source": [
    "imgs_5 = create(\"adhik by Charles Angrand\")\n",
    "imgs_5"
   ]
  },
  {
   "cell_type": "code",
   "execution_count": 243,
   "id": "fdfa016b-4da7-4c53-a5ee-31577bf2a5e6",
   "metadata": {},
   "outputs": [
    {
     "data": {
      "text/html": [
       "<img src=\"https://cdn2.stablediffusionapi.com/generations/0-5da139fe-a3e7-41b0-a36d-3a19a79f4cd6.png\" style=\"display:inline-block; margin:1px; width:300px;\" /><img src=\"https://cdn2.stablediffusionapi.com/generations/0-c45054fb-7316-47e2-8637-7912dcf01173.png\" style=\"display:inline-block; margin:1px; width:300px;\" />"
      ],
      "text/plain": [
       "<IPython.core.display.HTML object>"
      ]
     },
     "metadata": {},
     "output_type": "display_data"
    }
   ],
   "source": [
    "display_images(imgs_5)"
   ]
  },
  {
   "cell_type": "code",
   "execution_count": 245,
   "id": "26850868-3885-4107-b98e-715a903e6a0d",
   "metadata": {},
   "outputs": [
    {
     "name": "stdout",
     "output_type": "stream",
     "text": [
      "Base prompt: adhik\n",
      "Prompt #2: adhik, dress\n",
      "Prompt #3: adhik, dress, female\n",
      "Prompt #4: adhik, dress, female, funny\n"
     ]
    },
    {
     "data": {
      "text/plain": [
       "['https://cdn2.stablediffusionapi.com/generations/0-b04164d7-c373-4417-8a92-42f0e62c1ecc.png',\n",
       " 'https://cdn2.stablediffusionapi.com/generations/0-1b86a938-0703-4810-ba9b-61ebdeb40538.png',\n",
       " 'https://cdn2.stablediffusionapi.com/generations/0-95eb6f47-a0a1-4630-b278-0f88e40ca3a9.png',\n",
       " 'https://cdn2.stablediffusionapi.com/generations/0-d50495da-4e26-4524-a8b9-f8e7f9caf656.png']"
      ]
     },
     "execution_count": 245,
     "metadata": {},
     "output_type": "execute_result"
    }
   ],
   "source": [
    "imgs_6 = create(\"adhik, dress, female, funny\")\n",
    "imgs_6"
   ]
  },
  {
   "cell_type": "code",
   "execution_count": 248,
   "id": "edcdbfec-0fd3-4e81-a1e2-3aa5e3bce108",
   "metadata": {},
   "outputs": [
    {
     "data": {
      "text/html": [
       "<img src=\"https://cdn2.stablediffusionapi.com/generations/0-b04164d7-c373-4417-8a92-42f0e62c1ecc.png\" style=\"display:inline-block; margin:1px; width:300px;\" /><img src=\"https://cdn2.stablediffusionapi.com/generations/0-1b86a938-0703-4810-ba9b-61ebdeb40538.png\" style=\"display:inline-block; margin:1px; width:300px;\" /><img src=\"https://cdn2.stablediffusionapi.com/generations/0-95eb6f47-a0a1-4630-b278-0f88e40ca3a9.png\" style=\"display:inline-block; margin:1px; width:300px;\" /><img src=\"https://cdn2.stablediffusionapi.com/generations/0-d50495da-4e26-4524-a8b9-f8e7f9caf656.png\" style=\"display:inline-block; margin:1px; width:300px;\" />"
      ],
      "text/plain": [
       "<IPython.core.display.HTML object>"
      ]
     },
     "metadata": {},
     "output_type": "display_data"
    }
   ],
   "source": [
    "display_images(imgs_6)"
   ]
  },
  {
   "cell_type": "code",
   "execution_count": 382,
   "id": "420dab2f-125a-4ed0-8fad-56b251fbd9ce",
   "metadata": {},
   "outputs": [
    {
     "name": "stdout",
     "output_type": "stream",
     "text": [
      "Base prompt: adhik, highly detailed, grainy, realistic, unreal engine, octane render, bokeh, vray, houdini render, quixel megascans, depth of field (or dof), arnold render, 8k uhd, raytracing, cgi, lumen reflections, cgsociety, ultra realistic, volumetric fog, overglaze, analog photo, polaroid, 100mm, film photography, dslr, cinema4d, studio quality\n"
     ]
    },
    {
     "data": {
      "text/plain": [
       "['https://cdn2.stablediffusionapi.com/generations/0-a26568a7-88fb-4f47-9fb4-8ce9ee005ccb.png',\n",
       " 'https://cdn2.stablediffusionapi.com/generations/0-facb0154-5048-48ac-b656-e3df4951f84d.png',\n",
       " 'https://cdn2.stablediffusionapi.com/generations/0-d1477b54-0a24-46c5-866a-128a8c7067fe.png',\n",
       " 'https://cdn2.stablediffusionapi.com/generations/0-92520b27-7a0b-4a01-bb38-6edfb712b064.png']"
      ]
     },
     "execution_count": 382,
     "metadata": {},
     "output_type": "execute_result"
    }
   ],
   "source": [
    "imgs_7 = create(\"adhik, highly detailed, grainy, realistic, unreal engine, octane render, bokeh, vray, houdini render, quixel megascans, depth of field (or dof), arnold render, 8k uhd, raytracing, cgi, lumen reflections, cgsociety, ultra realistic, volumetric fog, overglaze, analog photo, polaroid, 100mm, film photography, dslr, cinema4d, studio quality\")\n",
    "imgs_7"
   ]
  },
  {
   "cell_type": "code",
   "execution_count": 383,
   "id": "1f39a378-7027-4d44-a1a7-420999a9f474",
   "metadata": {},
   "outputs": [
    {
     "data": {
      "text/html": [
       "<img src=\"https://cdn2.stablediffusionapi.com/generations/0-a26568a7-88fb-4f47-9fb4-8ce9ee005ccb.png\" style=\"display:inline-block; margin:1px; width:300px;\" /><img src=\"https://cdn2.stablediffusionapi.com/generations/0-facb0154-5048-48ac-b656-e3df4951f84d.png\" style=\"display:inline-block; margin:1px; width:300px;\" /><img src=\"https://cdn2.stablediffusionapi.com/generations/0-d1477b54-0a24-46c5-866a-128a8c7067fe.png\" style=\"display:inline-block; margin:1px; width:300px;\" /><img src=\"https://cdn2.stablediffusionapi.com/generations/0-92520b27-7a0b-4a01-bb38-6edfb712b064.png\" style=\"display:inline-block; margin:1px; width:300px;\" />"
      ],
      "text/plain": [
       "<IPython.core.display.HTML object>"
      ]
     },
     "metadata": {},
     "output_type": "display_data"
    }
   ],
   "source": [
    "display_images(imgs_7)"
   ]
  },
  {
   "cell_type": "code",
   "execution_count": 379,
   "id": "5de704b9-e20a-488e-82aa-215d2dcf4da8",
   "metadata": {},
   "outputs": [
    {
     "name": "stdout",
     "output_type": "stream",
     "text": [
      "Base prompt: adhik riding a horse\n"
     ]
    },
    {
     "data": {
      "text/plain": [
       "['https://cdn2.stablediffusionapi.com/generations/0-ad7455e2-3fbf-47e6-a2e7-4592383e91f7.png',\n",
       " 'https://cdn2.stablediffusionapi.com/generations/0-a681c663-0f8d-41af-a4b9-4415457b1b91.png',\n",
       " 'https://cdn2.stablediffusionapi.com/generations/0-bd70cfbe-7db5-498a-a7a9-76bc4bb3b30a.png',\n",
       " 'https://cdn2.stablediffusionapi.com/generations/0-6d28bc53-1c8a-4608-bcd9-15d61c8cbd37.png']"
      ]
     },
     "execution_count": 379,
     "metadata": {},
     "output_type": "execute_result"
    }
   ],
   "source": [
    "imgs_8 = create(\"adhik riding a horse\")\n",
    "imgs_8"
   ]
  },
  {
   "cell_type": "code",
   "execution_count": 381,
   "id": "9a4493b1-8463-46e0-832a-4713f408a295",
   "metadata": {},
   "outputs": [
    {
     "data": {
      "text/html": [
       "<img src=\"https://cdn2.stablediffusionapi.com/generations/0-ad7455e2-3fbf-47e6-a2e7-4592383e91f7.png\" style=\"display:inline-block; margin:1px; width:300px;\" /><img src=\"https://cdn2.stablediffusionapi.com/generations/0-a681c663-0f8d-41af-a4b9-4415457b1b91.png\" style=\"display:inline-block; margin:1px; width:300px;\" /><img src=\"https://cdn2.stablediffusionapi.com/generations/0-bd70cfbe-7db5-498a-a7a9-76bc4bb3b30a.png\" style=\"display:inline-block; margin:1px; width:300px;\" /><img src=\"https://cdn2.stablediffusionapi.com/generations/0-6d28bc53-1c8a-4608-bcd9-15d61c8cbd37.png\" style=\"display:inline-block; margin:1px; width:300px;\" />"
      ],
      "text/plain": [
       "<IPython.core.display.HTML object>"
      ]
     },
     "metadata": {},
     "output_type": "display_data"
    }
   ],
   "source": [
    "display_images(imgs_8)"
   ]
  },
  {
   "cell_type": "code",
   "execution_count": 374,
   "id": "143b3ad8-1cae-4bbe-ba76-8e9bd37fb223",
   "metadata": {},
   "outputs": [
    {
     "name": "stdout",
     "output_type": "stream",
     "text": [
      "Base prompt: Actual 8K photo, Adhik experiencing a moment of triumph atop a mountain under a starry zodiac-themed sky, reflecting the success foretold in their astrology prediction for the year, amidst a surreal, otherworldly landscape where the earthly and cosmic realms blend seamlessly, Impressionistic style with a blend of realism, reminiscent of Stanley Artgerm Lau’s dynamic superhero stances and Alphonse Mucha’s ethereal color palette and decorative elements, Digital photography blended with digital painting on Artstation, highly detailed with sharp focus, stunningly beautiful with a mystical ambiance, colors reflecting the zodiacal elements, cinematic lighting illuminating Adhik and the symbolic zodiac imagery, wide aspect ratio capturing the grandeur of the moment, mid-angle view encapsulating Adhik’s personal journey and the expansive, dreamlike reality unfolding.\n"
     ]
    },
    {
     "data": {
      "text/plain": [
       "['https://cdn2.stablediffusionapi.com/generations/0-69a34737-eb60-4ebe-8b04-c516bfcb838a.png',\n",
       " 'https://cdn2.stablediffusionapi.com/generations/0-f79a838d-b042-4883-93f3-2f08f3f33895.png',\n",
       " 'https://cdn2.stablediffusionapi.com/generations/0-dc7c8e2b-ff44-457a-824b-a7e8a100bb10.png',\n",
       " 'https://cdn2.stablediffusionapi.com/generations/0-566a403a-b06d-4d45-8f08-e908b19cfbe5.png']"
      ]
     },
     "execution_count": 374,
     "metadata": {},
     "output_type": "execute_result"
    }
   ],
   "source": [
    "imgs_9 = create(\"Actual 8K photo, Adhik experiencing a moment of triumph atop a mountain under a starry zodiac-themed sky, reflecting the success foretold in their astrology prediction for the year, amidst a surreal, otherworldly landscape where the earthly and cosmic realms blend seamlessly, Impressionistic style with a blend of realism, reminiscent of Stanley Artgerm Lau’s dynamic superhero stances and Alphonse Mucha’s ethereal color palette and decorative elements, Digital photography blended with digital painting on Artstation, highly detailed with sharp focus, stunningly beautiful with a mystical ambiance, colors reflecting the zodiacal elements, cinematic lighting illuminating Adhik and the symbolic zodiac imagery, wide aspect ratio capturing the grandeur of the moment, mid-angle view encapsulating Adhik’s personal journey and the expansive, dreamlike reality unfolding.\")\n",
    "imgs_9"
   ]
  },
  {
   "cell_type": "code",
   "execution_count": 384,
   "id": "c01f7408-a43c-4bb1-9cf3-0870df77c1da",
   "metadata": {},
   "outputs": [
    {
     "data": {
      "text/html": [
       "<img src=\"https://cdn2.stablediffusionapi.com/generations/0-69a34737-eb60-4ebe-8b04-c516bfcb838a.png\" style=\"display:inline-block; margin:1px; width:300px;\" /><img src=\"https://cdn2.stablediffusionapi.com/generations/0-f79a838d-b042-4883-93f3-2f08f3f33895.png\" style=\"display:inline-block; margin:1px; width:300px;\" /><img src=\"https://cdn2.stablediffusionapi.com/generations/0-dc7c8e2b-ff44-457a-824b-a7e8a100bb10.png\" style=\"display:inline-block; margin:1px; width:300px;\" /><img src=\"https://cdn2.stablediffusionapi.com/generations/0-566a403a-b06d-4d45-8f08-e908b19cfbe5.png\" style=\"display:inline-block; margin:1px; width:300px;\" />"
      ],
      "text/plain": [
       "<IPython.core.display.HTML object>"
      ]
     },
     "metadata": {},
     "output_type": "display_data"
    }
   ],
   "source": [
    "display_images(imgs_9)"
   ]
  },
  {
   "cell_type": "code",
   "execution_count": 373,
   "id": "7f97cc44-597d-4980-95f0-45752025ad7c",
   "metadata": {},
   "outputs": [
    {
     "name": "stdout",
     "output_type": "stream",
     "text": [
      "Base prompt: Actual 8K photo, Adhik experiencing a moment of triumph atop a mountain under a starry zodiac-themed sky, reflecting the success foretold in their astrology prediction for the year, amidst a surreal, otherworldly landscape where the earthly and cosmic realms blend seamlessly, Impressionistic style with a blend of realism, reminiscent of Stanley Artgerm Lau’s dynamic superhero stances and Alphonse Mucha’s ethereal color palette and decorative elements, Digital photography blended with digital painting on Artstation, highly detailed with sharp focus, stunningly beautiful with a mystical ambiance, colors reflecting the zodiacal elements, cinematic lighting illuminating Adhik and the symbolic zodiac imagery, wide aspect ratio capturing the grandeur of the moment, mid-angle view encapsulating Adhik’s personal journey and the expansive, dreamlike reality unfolding.\n"
     ]
    },
    {
     "data": {
      "text/plain": [
       "['https://cdn2.stablediffusionapi.com/generations/0-c6455cff-69a2-4454-8d51-b0a711aad2c5.png',\n",
       " 'https://cdn2.stablediffusionapi.com/generations/0-286baa13-b4a8-4796-85ab-6524bfa269c4.png',\n",
       " 'https://cdn2.stablediffusionapi.com/generations/0-952c9a6c-3d67-4ec2-94e2-83fa3230ad53.png',\n",
       " 'https://cdn2.stablediffusionapi.com/generations/0-01dfbbaa-ff3c-4123-8a79-48489bb4cccb.png']"
      ]
     },
     "execution_count": 373,
     "metadata": {},
     "output_type": "execute_result"
    }
   ],
   "source": [
    "# trying to get this to look more like an astrology prediction\n",
    "imgs_10 = create(\"Actual 8K photo, Adhik experiencing a moment of triumph atop a mountain under a starry zodiac-themed sky, reflecting the success foretold in their astrology prediction for the year, amidst a surreal, otherworldly landscape where the earthly and cosmic realms blend seamlessly, Impressionistic style with a blend of realism, reminiscent of Stanley Artgerm Lau’s dynamic superhero stances and Alphonse Mucha’s ethereal color palette and decorative elements, Digital photography blended with digital painting on Artstation, highly detailed with sharp focus, stunningly beautiful with a mystical ambiance, colors reflecting the zodiacal elements, cinematic lighting illuminating Adhik and the symbolic zodiac imagery, wide aspect ratio capturing the grandeur of the moment, mid-angle view encapsulating Adhik’s personal journey and the expansive, dreamlike reality unfolding.\")\n",
    "imgs_10"
   ]
  },
  {
   "cell_type": "code",
   "execution_count": 376,
   "id": "2b77d63c-0f7a-4f04-96ac-73be57067d85",
   "metadata": {},
   "outputs": [
    {
     "data": {
      "text/html": [
       "<img src=\"https://cdn2.stablediffusionapi.com/generations/0-c6455cff-69a2-4454-8d51-b0a711aad2c5.png\" style=\"display:inline-block; margin:1px; width:300px;\" /><img src=\"https://cdn2.stablediffusionapi.com/generations/0-286baa13-b4a8-4796-85ab-6524bfa269c4.png\" style=\"display:inline-block; margin:1px; width:300px;\" /><img src=\"https://cdn2.stablediffusionapi.com/generations/0-952c9a6c-3d67-4ec2-94e2-83fa3230ad53.png\" style=\"display:inline-block; margin:1px; width:300px;\" /><img src=\"https://cdn2.stablediffusionapi.com/generations/0-01dfbbaa-ff3c-4123-8a79-48489bb4cccb.png\" style=\"display:inline-block; margin:1px; width:300px;\" />"
      ],
      "text/plain": [
       "<IPython.core.display.HTML object>"
      ]
     },
     "metadata": {},
     "output_type": "display_data"
    }
   ],
   "source": [
    "display_images(imgs_10)"
   ]
  },
  {
   "cell_type": "markdown",
   "id": "25491f70-3cef-4197-9862-56bbd613ccc7",
   "metadata": {},
   "source": [
    "### Good\n",
    "Note: adding \"singular figure, one individual\" may have solved the double figure problem"
   ]
  },
  {
   "cell_type": "code",
   "execution_count": 365,
   "id": "716d2880-8454-4c0a-90d1-fea92ba869fe",
   "metadata": {},
   "outputs": [
    {
     "name": "stdout",
     "output_type": "stream",
     "text": [
      "Base prompt: Actual 8K photo, singular figure, one individual, Adhik experiencing a moment of triumph atop a mountain under a starry zodiac-themed sky, reflecting the success foretold in their astrology prediction for the year, amidst a surreal, otherworldly landscape where the earthly and cosmic realms blend seamlessly, Impressionistic style with a blend of realism, reminiscent of Stanley Artgerm Lau’s dynamic superhero stances and Alphonse Mucha’s ethereal color palette and decorative elements, Digital photography blended with digital painting on Artstation, highly detailed with sharp focus, stunningly beautiful with a mystical ambiance, colors reflecting the zodiacal elements, cinematic lighting illuminating Adhik and the symbolic zodiac imagery, wide aspect ratio capturing the grandeur of the moment, mid-angle view encapsulating Adhik’s personal journey and the expansive, dreamlike reality unfolding.\n"
     ]
    },
    {
     "data": {
      "text/plain": [
       "['https://cdn2.stablediffusionapi.com/generations/0-483ffc9c-5b0c-4b34-8a3e-c627e95c105a.png',\n",
       " 'https://cdn2.stablediffusionapi.com/generations/0-aa036c9e-df0d-47fc-8f34-0d0c5d20aa6a.png',\n",
       " 'https://cdn2.stablediffusionapi.com/generations/0-41350b66-6456-4844-9805-2f65ede44a04.png',\n",
       " 'https://cdn2.stablediffusionapi.com/generations/0-f4be3ac9-bf4a-4f8b-bb0b-941a3754188a.png']"
      ]
     },
     "execution_count": 365,
     "metadata": {},
     "output_type": "execute_result"
    }
   ],
   "source": [
    "# lots of images have two people. trying to remove second figure\n",
    "imgs_11 = create(\"Actual 8K photo, singular figure, one individual, Adhik experiencing a moment of triumph atop a mountain under a starry zodiac-themed sky, reflecting the success foretold in their astrology prediction for the year, amidst a surreal, otherworldly landscape where the earthly and cosmic realms blend seamlessly, Impressionistic style with a blend of realism, reminiscent of Stanley Artgerm Lau’s dynamic superhero stances and Alphonse Mucha’s ethereal color palette and decorative elements, Digital photography blended with digital painting on Artstation, highly detailed with sharp focus, stunningly beautiful with a mystical ambiance, colors reflecting the zodiacal elements, cinematic lighting illuminating Adhik and the symbolic zodiac imagery, wide aspect ratio capturing the grandeur of the moment, mid-angle view encapsulating Adhik’s personal journey and the expansive, dreamlike reality unfolding.\")\n",
    "imgs_11"
   ]
  },
  {
   "cell_type": "code",
   "execution_count": 372,
   "id": "a8aba23b-cdc9-4df5-969a-17fbd5343f4c",
   "metadata": {},
   "outputs": [
    {
     "data": {
      "text/html": [
       "<img src=\"https://cdn2.stablediffusionapi.com/generations/0-483ffc9c-5b0c-4b34-8a3e-c627e95c105a.png\" style=\"display:inline-block; margin:1px; width:300px;\" /><img src=\"https://cdn2.stablediffusionapi.com/generations/0-aa036c9e-df0d-47fc-8f34-0d0c5d20aa6a.png\" style=\"display:inline-block; margin:1px; width:300px;\" /><img src=\"https://cdn2.stablediffusionapi.com/generations/0-41350b66-6456-4844-9805-2f65ede44a04.png\" style=\"display:inline-block; margin:1px; width:300px;\" /><img src=\"https://cdn2.stablediffusionapi.com/generations/0-f4be3ac9-bf4a-4f8b-bb0b-941a3754188a.png\" style=\"display:inline-block; margin:1px; width:300px;\" />"
      ],
      "text/plain": [
       "<IPython.core.display.HTML object>"
      ]
     },
     "metadata": {},
     "output_type": "display_data"
    }
   ],
   "source": [
    "display_images(imgs_11)"
   ]
  },
  {
   "cell_type": "markdown",
   "id": "3918eebe-a8ae-4f2d-9bb4-dab2b4d2fcce",
   "metadata": {},
   "source": [
    "### Bad"
   ]
  },
  {
   "cell_type": "code",
   "execution_count": 364,
   "id": "6fc7ea07-e726-4d9f-b099-7a6a08a589ca",
   "metadata": {},
   "outputs": [
    {
     "name": "stdout",
     "output_type": "stream",
     "text": [
      "Base prompt: Actual 8K photo, whimsical scene, Adhik amidst a playful chaos of floating, oversized colorful donuts in a surreal, candy-colored landscape, ecstatic expression as a donut halo amusingly frames their head, playful and exaggerated cartoonish style, reminiscent of pop art and the humorous spontaneity of caricature, Digital photography blended with digital illustration on Deviant Art, highly detailed with sharp focus, amusingly bizarre and delightfully whimsical, vibrant color palette with a dominance of pastel tones, comedic lighting enhancing the playful atmosphere, wide aspect ratio capturing the humorous unpredictability of the scene, low-angle view adding to the exaggerated, comedic effect.\n"
     ]
    },
    {
     "data": {
      "text/plain": [
       "['https://cdn2.stablediffusionapi.com/generations/0-00b554bf-a87d-4b86-bf96-9d12604f5c8c.png',\n",
       " 'https://cdn2.stablediffusionapi.com/generations/0-4eefc81d-1b9d-4605-a06d-e4dba9daf30d.png',\n",
       " 'https://cdn2.stablediffusionapi.com/generations/0-c9ea454a-a522-4bc6-a187-92339cfc915b.png',\n",
       " 'https://cdn2.stablediffusionapi.com/generations/0-b5ba34b3-990c-403f-bf2f-dcadb543fa84.png']"
      ]
     },
     "execution_count": 364,
     "metadata": {},
     "output_type": "execute_result"
    }
   ],
   "source": [
    "# testing out a funny prompt\n",
    "imgs_12 = create(\"Actual 8K photo, whimsical scene, Adhik amidst a playful chaos of floating, oversized colorful donuts in a surreal, candy-colored landscape, ecstatic expression as a donut halo amusingly frames their head, playful and exaggerated cartoonish style, reminiscent of pop art and the humorous spontaneity of caricature, Digital photography blended with digital illustration on Deviant Art, highly detailed with sharp focus, amusingly bizarre and delightfully whimsical, vibrant color palette with a dominance of pastel tones, comedic lighting enhancing the playful atmosphere, wide aspect ratio capturing the humorous unpredictability of the scene, low-angle view adding to the exaggerated, comedic effect.\")\n",
    "imgs_12"
   ]
  },
  {
   "cell_type": "code",
   "execution_count": 377,
   "id": "4a71b54f-343e-4347-8dc5-6bb9a823e418",
   "metadata": {},
   "outputs": [
    {
     "data": {
      "text/html": [
       "<img src=\"https://cdn2.stablediffusionapi.com/generations/0-00b554bf-a87d-4b86-bf96-9d12604f5c8c.png\" style=\"display:inline-block; margin:1px; width:300px;\" /><img src=\"https://cdn2.stablediffusionapi.com/generations/0-4eefc81d-1b9d-4605-a06d-e4dba9daf30d.png\" style=\"display:inline-block; margin:1px; width:300px;\" /><img src=\"https://cdn2.stablediffusionapi.com/generations/0-c9ea454a-a522-4bc6-a187-92339cfc915b.png\" style=\"display:inline-block; margin:1px; width:300px;\" /><img src=\"https://cdn2.stablediffusionapi.com/generations/0-b5ba34b3-990c-403f-bf2f-dcadb543fa84.png\" style=\"display:inline-block; margin:1px; width:300px;\" />"
      ],
      "text/plain": [
       "<IPython.core.display.HTML object>"
      ]
     },
     "metadata": {},
     "output_type": "display_data"
    }
   ],
   "source": [
    "display_images(imgs_12)"
   ]
  },
  {
   "cell_type": "code",
   "execution_count": 353,
   "id": "2051909b-f6ef-4511-89ad-9561a65bcca0",
   "metadata": {},
   "outputs": [
    {
     "name": "stdout",
     "output_type": "stream",
     "text": [
      "Base prompt: Actual 8K photo, singular figure, one individual, Adhik in a goofy scenario, caught off guard in a compromising yet hilarious position, surrounded by cheeky, anthropomorphized vegetables engaging in playful banter, a scene straight out of a bawdy, satirical cartoon, reminiscent of the irreverent humor found in adult animation, digital photography infused with exaggerated, caricatured illustration, on Deviant Art, highly detailed with sharp focus, unabashedly risqué yet light-hearted, vibrant and bold color palette, dramatic, spotlight-style lighting highlighting the comical disbelief on Adhik's face, wide aspect ratio capturing the full comedic spectacle, low-angle view exaggerating the playful absurdity of the scenario.\n"
     ]
    },
    {
     "data": {
      "text/plain": [
       "['https://cdn2.stablediffusionapi.com/generations/0-c06706e3-6bc1-47c3-86fd-0a474bbd207c.png',\n",
       " 'https://cdn2.stablediffusionapi.com/generations/0-12bfb2b7-ec2f-47f3-ba2f-1c4eff3ea1fe.png',\n",
       " 'https://cdn2.stablediffusionapi.com/generations/0-622498a6-fc87-433d-9cc7-f09fcb39a231.png',\n",
       " 'https://cdn2.stablediffusionapi.com/generations/0-d62171e2-a0be-414d-9f12-95f41e12d695.png']"
      ]
     },
     "execution_count": 353,
     "metadata": {},
     "output_type": "execute_result"
    }
   ],
   "source": [
    "# another funny one. trying to be more raunchy\n",
    "imgs_13 = create(\"Actual 8K photo, singular figure, one individual, Adhik in a goofy scenario, caught off guard in a compromising yet hilarious position, surrounded by cheeky, anthropomorphized vegetables engaging in playful banter, a scene straight out of a bawdy, satirical cartoon, reminiscent of the irreverent humor found in adult animation, digital photography infused with exaggerated, caricatured illustration, on Deviant Art, highly detailed with sharp focus, unabashedly risqué yet light-hearted, vibrant and bold color palette, dramatic, spotlight-style lighting highlighting the comical disbelief on Adhik's face, wide aspect ratio capturing the full comedic spectacle, low-angle view exaggerating the playful absurdity of the scenario.\")\n",
    "imgs_13"
   ]
  },
  {
   "cell_type": "code",
   "execution_count": 363,
   "id": "7255c316-6f37-4b78-9ae3-99baa2712f3a",
   "metadata": {},
   "outputs": [
    {
     "data": {
      "text/html": [
       "<img src=\"https://cdn2.stablediffusionapi.com/generations/0-c06706e3-6bc1-47c3-86fd-0a474bbd207c.png\" style=\"display:inline-block; margin:1px; width:300px;\" /><img src=\"https://cdn2.stablediffusionapi.com/generations/0-12bfb2b7-ec2f-47f3-ba2f-1c4eff3ea1fe.png\" style=\"display:inline-block; margin:1px; width:300px;\" /><img src=\"https://cdn2.stablediffusionapi.com/generations/0-622498a6-fc87-433d-9cc7-f09fcb39a231.png\" style=\"display:inline-block; margin:1px; width:300px;\" /><img src=\"https://cdn2.stablediffusionapi.com/generations/0-d62171e2-a0be-414d-9f12-95f41e12d695.png\" style=\"display:inline-block; margin:1px; width:300px;\" />"
      ],
      "text/plain": [
       "<IPython.core.display.HTML object>"
      ]
     },
     "metadata": {},
     "output_type": "display_data"
    }
   ],
   "source": [
    "display_images(imgs_13)"
   ]
  },
  {
   "cell_type": "code",
   "execution_count": 352,
   "id": "2a424b0b-d420-4a58-8a62-b46428583b29",
   "metadata": {},
   "outputs": [
    {
     "name": "stdout",
     "output_type": "stream",
     "text": [
      "Base prompt: Actual 8K photo, singular figure, one individual, Adhik donning an extravagant, over-the-top dress complete with large breasts, a whimsical expression of surprise and amusement on his face, amidst a playful, surreal setting, digital photography blended with humorous illustration on Deviant Art, highly detailed with sharp focus, playful and cheekily irreverent, vibrant color palette with bold, contrasting hues, comedic lighting accentuating the playful elements of the scene, wide aspect ratio capturing the hilarious incongruity, low-angle view.\n"
     ]
    },
    {
     "data": {
      "text/plain": [
       "['https://cdn2.stablediffusionapi.com/generations/0-2072f72b-8379-4a71-b015-542881584478.png',\n",
       " 'https://cdn2.stablediffusionapi.com/generations/0-843c3760-0885-4b7a-994e-021e17e578bb.png',\n",
       " 'https://cdn2.stablediffusionapi.com/generations/0-9e57ef40-8bd3-4430-9c88-b9118d21187e.png',\n",
       " 'https://cdn2.stablediffusionapi.com/generations/0-e54f882a-c4a9-4604-b65c-17967baf2273.png']"
      ]
     },
     "execution_count": 352,
     "metadata": {},
     "output_type": "execute_result"
    }
   ],
   "source": [
    "# make a man dressed like a woman\n",
    "imgs_14 = create(\"Actual 8K photo, singular figure, one individual, Adhik donning an extravagant, over-the-top dress complete with large breasts, a whimsical expression of surprise and amusement on his face, amidst a playful, surreal setting, digital photography blended with humorous illustration on Deviant Art, highly detailed with sharp focus, playful and cheekily irreverent, vibrant color palette with bold, contrasting hues, comedic lighting accentuating the playful elements of the scene, wide aspect ratio capturing the hilarious incongruity, low-angle view.\")\n",
    "imgs_14"
   ]
  },
  {
   "cell_type": "code",
   "execution_count": 361,
   "id": "882512fe-c820-40be-a55d-d29d02a4b3c7",
   "metadata": {},
   "outputs": [
    {
     "data": {
      "text/html": [
       "<img src=\"https://cdn2.stablediffusionapi.com/generations/0-2072f72b-8379-4a71-b015-542881584478.png\" style=\"display:inline-block; margin:1px; width:300px;\" /><img src=\"https://cdn2.stablediffusionapi.com/generations/0-843c3760-0885-4b7a-994e-021e17e578bb.png\" style=\"display:inline-block; margin:1px; width:300px;\" /><img src=\"https://cdn2.stablediffusionapi.com/generations/0-9e57ef40-8bd3-4430-9c88-b9118d21187e.png\" style=\"display:inline-block; margin:1px; width:300px;\" /><img src=\"https://cdn2.stablediffusionapi.com/generations/0-e54f882a-c4a9-4604-b65c-17967baf2273.png\" style=\"display:inline-block; margin:1px; width:300px;\" />"
      ],
      "text/plain": [
       "<IPython.core.display.HTML object>"
      ]
     },
     "metadata": {},
     "output_type": "display_data"
    }
   ],
   "source": [
    "display_images(imgs_14)"
   ]
  },
  {
   "cell_type": "code",
   "execution_count": 346,
   "id": "b0a09d17-c1c5-450d-800a-fea64412022c",
   "metadata": {},
   "outputs": [
    {
     "name": "stdout",
     "output_type": "stream",
     "text": [
      "Base prompt: Actual 8K photo, singular figure, one individual, full body, Adhik standing on planet Earth, amidst the vast expanse of space, a cosmos of stars and planets, embodying a visionary bridging earthly realms and cosmic possibilities, echoing a futuristic, sci-fi aesthetic, the grandeur and mystery of the cosmos echoing the boundless imagination seen in works by Stanley Artgerm Lau and the ethereal allure of Alphonse Mucha’s artistry, Digital photography blended with 3D rendering on Artstation, highly detailed with sharp focus, strikingly magnificent with a cosmic allure, colors reflecting the contrasting coolness of space and the warm hues of earthly realms, cinematic lighting accentuating Adhik as a focal point amidst the vast cosmic theater, wide aspect ratio capturing the epic scale of the scene, mid-angle view encapsulating Adhik’s dominion over earthly domain and the boundless, celestial wonder beyond.\n"
     ]
    },
    {
     "data": {
      "text/plain": [
       "['https://cdn2.stablediffusionapi.com/generations/0-f9d551a9-2bbe-45ad-9914-cb2d62ea56c6.png',\n",
       " 'https://cdn2.stablediffusionapi.com/generations/0-29153e9f-7686-41a2-9c79-a6b5a314cc91.png',\n",
       " 'https://cdn2.stablediffusionapi.com/generations/0-cad249e2-7ac3-4b48-b426-ce07bfc34c36.png',\n",
       " 'https://cdn2.stablediffusionapi.com/generations/0-fe27f572-34ca-445b-b6c3-596ee8139459.png']"
      ]
     },
     "execution_count": 346,
     "metadata": {},
     "output_type": "execute_result"
    }
   ],
   "source": [
    "# Person standing on earth\n",
    "imgs_15 = create(\"Actual 8K photo, singular figure, one individual, full body, Adhik standing on planet Earth, amidst the vast expanse of space, a cosmos of stars and planets, embodying a visionary bridging earthly realms and cosmic possibilities, echoing a futuristic, sci-fi aesthetic, the grandeur and mystery of the cosmos echoing the boundless imagination seen in works by Stanley Artgerm Lau and the ethereal allure of Alphonse Mucha’s artistry, Digital photography blended with 3D rendering on Artstation, highly detailed with sharp focus, strikingly magnificent with a cosmic allure, colors reflecting the contrasting coolness of space and the warm hues of earthly realms, cinematic lighting accentuating Adhik as a focal point amidst the vast cosmic theater, wide aspect ratio capturing the epic scale of the scene, mid-angle view encapsulating Adhik’s dominion over earthly domain and the boundless, celestial wonder beyond.\")\n",
    "imgs_15"
   ]
  },
  {
   "cell_type": "code",
   "execution_count": 362,
   "id": "d4e2498c-28d3-4696-88f6-7b5bc6ec0f29",
   "metadata": {},
   "outputs": [
    {
     "data": {
      "text/html": [
       "<img src=\"https://cdn2.stablediffusionapi.com/generations/0-f9d551a9-2bbe-45ad-9914-cb2d62ea56c6.png\" style=\"display:inline-block; margin:1px; width:300px;\" /><img src=\"https://cdn2.stablediffusionapi.com/generations/0-29153e9f-7686-41a2-9c79-a6b5a314cc91.png\" style=\"display:inline-block; margin:1px; width:300px;\" /><img src=\"https://cdn2.stablediffusionapi.com/generations/0-cad249e2-7ac3-4b48-b426-ce07bfc34c36.png\" style=\"display:inline-block; margin:1px; width:300px;\" /><img src=\"https://cdn2.stablediffusionapi.com/generations/0-fe27f572-34ca-445b-b6c3-596ee8139459.png\" style=\"display:inline-block; margin:1px; width:300px;\" />"
      ],
      "text/plain": [
       "<IPython.core.display.HTML object>"
      ]
     },
     "metadata": {},
     "output_type": "display_data"
    }
   ],
   "source": [
    "display_images(imgs_15)"
   ]
  },
  {
   "cell_type": "code",
   "execution_count": null,
   "id": "a6731e98-5fc1-4603-818b-f3e0d670a37b",
   "metadata": {},
   "outputs": [],
   "source": []
  },
  {
   "cell_type": "code",
   "execution_count": null,
   "id": "0c8950f0-78d5-4a56-a5f6-7b96046bce16",
   "metadata": {},
   "outputs": [],
   "source": []
  },
  {
   "cell_type": "code",
   "execution_count": null,
   "id": "23ed3d7a-b8c6-48ae-b3e6-c0a48f81bf21",
   "metadata": {},
   "outputs": [],
   "source": []
  },
  {
   "cell_type": "code",
   "execution_count": null,
   "id": "55318eb7-99c1-482c-a659-202e4b40a9a6",
   "metadata": {},
   "outputs": [],
   "source": []
  },
  {
   "cell_type": "code",
   "execution_count": null,
   "id": "fc109f48-ad71-4637-a173-1d5d239363cb",
   "metadata": {},
   "outputs": [],
   "source": []
  },
  {
   "cell_type": "code",
   "execution_count": null,
   "id": "e866b6c8-f05e-4380-a68f-fc4ad7b9e5df",
   "metadata": {},
   "outputs": [],
   "source": []
  },
  {
   "cell_type": "code",
   "execution_count": null,
   "id": "4f80b3bd-7e30-4503-ba91-6633a4ca7a28",
   "metadata": {},
   "outputs": [],
   "source": []
  },
  {
   "cell_type": "code",
   "execution_count": null,
   "id": "b9a2942d-02e7-45a9-8f4f-521dec91b9d3",
   "metadata": {},
   "outputs": [],
   "source": []
  },
  {
   "cell_type": "code",
   "execution_count": null,
   "id": "05da0df7-75cd-43d5-9c8a-39b58ca4dc01",
   "metadata": {},
   "outputs": [],
   "source": []
  },
  {
   "cell_type": "markdown",
   "id": "242c3328-bb29-434c-9a1d-ef26de4a7b9a",
   "metadata": {},
   "source": [
    "# First try"
   ]
  },
  {
   "cell_type": "code",
   "execution_count": 268,
   "id": "a14c1e50-9fde-4c3c-bb3b-51b64f5cee46",
   "metadata": {},
   "outputs": [],
   "source": [
    "# PROMPTS\n",
    "\n",
    "original_prompt = \"\"\"actual 8K portrait photo of adhik person, \\\n",
    "portrait, happy colors, bright eyes, clear eyes, warm smile, \\\n",
    "smooth soft skin, big dreamy eyes, beautiful intricate colored \\\n",
    "hair, symmetrical, anime wide eyes, soft lighting, detailed face, \\\n",
    "by makoto shinkai, stanley artgerm lau, wlop, rossdraws, concept art, \\\n",
    "digital painting, looking into camera\"\"\"\n",
    "\n",
    "prompt_1 = \"\"\"A whimsical illustration of Adhik joyfully experiencing \\\n",
    "his zodiac prediction for the year: [insert zodiac prediction here]. \\\n",
    "Captured in a serene setting with soft lighting accentuating his warm smile \\\n",
    "and bright, dreamy eyes. The portrait, reminiscent of a blend between Makoto \\\n",
    "Shinkai and Stanley Artgerm Lau's art styles, showcases a hopeful Adhik, with \\\n",
    "intricate colored hair, gazing optimistically towards the sky, embodying the \\\n",
    "essence of his astrological forecast. The detailed digital painting vividly \\\n",
    "portrays the harmonious colors and emotions of the moment, as Adhik stands amidst \\\n",
    "a gently blooming garden, symbolizing the promising year ahead.\"\"\"\n",
    "\n",
    "prompt_2 = \"\"\"An enchanting depiction of Adhik embarking on a daring adventure \\\n",
    "symbolizing his Aries spirit. The image captures a courageous Adhik stepping out \\ \n",
    "from the familiar into a realm filled with new beginnings and endless opportunities, \\ \n",
    "embodying the essence of personal growth. With a determined gaze and a heart full \\\n",
    "of ambition, he stands at the threshold of a vibrant new world that beckons. The soft \\\n",
    "lighting illuminates his path, highlighting the excitement in his big, dreamy eyes \\\n",
    "and the warm, reassuring smile on his face. His intricate colored hair flows gracefully \\\n",
    "in the wind, adding a whimsical touch to this moment of remarkable potential. The art \\\n",
    "style, a blend of Makoto Shinkai’s ethereal scenery and Stanley Artgerm Lau's evocative \\\n",
    "character design, portrays a blend of courage, anticipation, and the promise of a fulfilling \\\n",
    "year ahead. Every element of this digital painting, from Adhik’s expressive stance to the \\\n",
    "expansive horizon that lays ahead, resonates with the adventurous and passionate energy of \\\n",
    "Aries, promising a year of extraordinary possibilities.\"\"\"\n",
    "\n",
    "prompt_3 = \"\"\"actual 8K portrait photo of adhik person, \\\n",
    "action photo, bright eyes, clear eyes, warm smile, determined eyes, \\\n",
    "beautiful intricate colored hair, symmetrical, anime wide eyes, soft lighting, \\\n",
    "detailed face, by Paul Laffoley, Bess Hamiti, Matt Molloy, Amy Giacomelli, \\\n",
    "concept art, digital painting, looking into camera, birthday card\"\"\"\n",
    "\n",
    "\n"
   ]
  },
  {
   "cell_type": "code",
   "execution_count": 45,
   "id": "af5ab69c-8d38-455c-a230-37b2119d9f08",
   "metadata": {
    "scrolled": true
   },
   "outputs": [
    {
     "name": "stdout",
     "output_type": "stream",
     "text": [
      "{'status': 'processing', 'tip': 'Get 20x faster image generation using enterprise plan. Click here : https://stablediffusionapi.com/enterprise', 'tip_1': 'Your image is processing in background, you can get this image using fetch API: here is link for fetch api : https://stablediffusionapi.com/docs/community-models-api-v4/dreamboothfetchqueimg', 'eta': 8.238667458754739, 'messege': 'Try to fetch request after seconds estimated', 'webhook_status': '', 'fetch_result': 'https://stablediffusionapi.com/api/v3/dreambooth/fetch/51707832', 'id': 51707832, 'output': [], 'meta': {'prompt': 'portrait+ style actual 8K portrait photo of adhik person, action photo, bright eyes, clear eyes, warm smile, determined eyes, beautiful intricate colored hair, symmetrical, anime wide eyes, soft lighting, detailed face, by Paul Laffoley, Bess Hamiti, Matt Molloy, Amy Giacomelli, concept art, digital painting, looking into camera, birthday card hyperrealistic, full body, detailed clothing, highly detailed, cinematic lighting, stunningly beautiful, intricate, sharp focus, f/1. 8, 85mm, (centered image composition), (professionally color graded), ((bright soft diffused light)), volumetric fog, trending on instagram, trending on tumblr, HDR 4K, 8K', 'model_id': '2utUQxLpZbNoAJh05TWMvcHDq', 'negative_prompt': 'painting, extra fingers, mutated hands, poorly drawn hands, poorly drawn face, deformed, ugly, blurry, bad anatomy, bad proportions, extra limbs, cloned face, skinny, glitchy, double torso, extra arms, extra hands, mangled fingers, missing lips, ugly face, distorted face, extra legs, anime, naked, no shirt(child:1.5), ((((underage)))), ((((child)))), (((kid))), (((preteen))), (teen:1.5) ugly, tiling, poorly drawn hands, poorly drawn feet, poorly drawn face, out of frame, extra limbs, disfigured, deformed, body out of frame, bad anatomy, watermark, signature, cut off, low contrast, underexposed, overexposed, bad art, beginner, amateur, distorted face, blurry, draft, grainy', 'scheduler': 'UniPCMultistepScheduler', 'safety_checker': 'no', 'W': 1024, 'H': 728, 'guidance_scale': 7.5, 'seed': 2383738275, 'steps': 20, 'n_samples': 1, 'full_url': 'no', 'tomesd': 'yes', 'upscale': 2, 'multi_lingual': 'no', 'panorama': 'no', 'self_attention': 'yes', 'use_karras_sigmas': 'yes', 'embeddings': None, 'vae': None, 'lora': None, 'lora_strength': 1, 'clip_skip': 1, 'temp': 'no', 'base64': 'no', 'file_prefix': '2d59c61b-c860-4ce5-8803-5af01d10930d.png'}, 'future_links': ['https://cdn2.stablediffusionapi.com/generations/0-2d59c61b-c860-4ce5-8803-5af01d10930d.png']}\n"
     ]
    }
   ],
   "source": [
    "url = \"https://stablediffusionapi.com/api/v4/dreambooth\"\n",
    "\n",
    "headers = {\n",
    "  'Content-Type': 'application/json'\n",
    "}\n",
    "\n",
    "gen_response = requests.request(\"POST\", url, headers=headers, data=payload)\n",
    "gen_response_json = json.loads(gen_response.text)\n",
    "print(gen_response_json)"
   ]
  },
  {
   "cell_type": "code",
   "execution_count": 46,
   "id": "a86d2977-91a0-47f4-aa06-69f62f71f7b8",
   "metadata": {},
   "outputs": [
    {
     "name": "stdout",
     "output_type": "stream",
     "text": [
      "{'status': 'processing', 'tip': 'Get 20x faster image generation using enterprise plan. Click here : https://stablediffusionapi.com/enterprise', 'tip_1': 'Your image is processing in background, you can get this image using fetch API: here is link for fetch api : https://stablediffusionapi.com/docs/community-models-api-v4/dreamboothfetchqueimg', 'eta': 8.238667458754739, 'messege': 'Try to fetch request after seconds estimated', 'webhook_status': '', 'fetch_result': 'https://stablediffusionapi.com/api/v3/dreambooth/fetch/51707832', 'id': 51707832, 'output': [], 'meta': {'prompt': 'portrait+ style actual 8K portrait photo of adhik person, action photo, bright eyes, clear eyes, warm smile, determined eyes, beautiful intricate colored hair, symmetrical, anime wide eyes, soft lighting, detailed face, by Paul Laffoley, Bess Hamiti, Matt Molloy, Amy Giacomelli, concept art, digital painting, looking into camera, birthday card hyperrealistic, full body, detailed clothing, highly detailed, cinematic lighting, stunningly beautiful, intricate, sharp focus, f/1. 8, 85mm, (centered image composition), (professionally color graded), ((bright soft diffused light)), volumetric fog, trending on instagram, trending on tumblr, HDR 4K, 8K', 'model_id': '2utUQxLpZbNoAJh05TWMvcHDq', 'negative_prompt': 'painting, extra fingers, mutated hands, poorly drawn hands, poorly drawn face, deformed, ugly, blurry, bad anatomy, bad proportions, extra limbs, cloned face, skinny, glitchy, double torso, extra arms, extra hands, mangled fingers, missing lips, ugly face, distorted face, extra legs, anime, naked, no shirt(child:1.5), ((((underage)))), ((((child)))), (((kid))), (((preteen))), (teen:1.5) ugly, tiling, poorly drawn hands, poorly drawn feet, poorly drawn face, out of frame, extra limbs, disfigured, deformed, body out of frame, bad anatomy, watermark, signature, cut off, low contrast, underexposed, overexposed, bad art, beginner, amateur, distorted face, blurry, draft, grainy', 'scheduler': 'UniPCMultistepScheduler', 'safety_checker': 'no', 'W': 1024, 'H': 728, 'guidance_scale': 7.5, 'seed': 2383738275, 'steps': 20, 'n_samples': 1, 'full_url': 'no', 'tomesd': 'yes', 'upscale': 2, 'multi_lingual': 'no', 'panorama': 'no', 'self_attention': 'yes', 'use_karras_sigmas': 'yes', 'embeddings': None, 'vae': None, 'lora': None, 'lora_strength': 1, 'clip_skip': 1, 'temp': 'no', 'base64': 'no', 'file_prefix': '2d59c61b-c860-4ce5-8803-5af01d10930d.png'}, 'future_links': ['https://cdn2.stablediffusionapi.com/generations/0-2d59c61b-c860-4ce5-8803-5af01d10930d.png']}\n"
     ]
    }
   ],
   "source": [
    "fetch_url = gen_response_json[\"fetch_result\"]\n",
    "\n",
    "payload = json.dumps({\n",
    "  \"key\": stable_diffusion_api_key,\n",
    "})\n",
    "\n",
    "headers = {\n",
    "  'Content-Type': 'application/json'\n",
    "}\n",
    "\n",
    "fetch_response = requests.request(\"POST\", fetch_url, headers=headers, data=payload)\n",
    "fetch_response_json = json.loads(gen_response.text)\n",
    "print(fetch_response_json)"
   ]
  },
  {
   "cell_type": "markdown",
   "id": "166365d7-097f-4c6e-9f87-230c11abfaf0",
   "metadata": {},
   "source": [
    "{'status': 'processing', 'tip': 'Get 20x faster image generation using enterprise plan. Click here : https://stablediffusionapi.com/enterprise', 'tip_1': 'Your image is processing in background, you can get this image using fetch API: here is link for fetch api : https://stablediffusionapi.com/docs/community-models-api-v4/dreamboothfetchqueimg', 'eta': 21.20322994262903, 'messege': 'Try to fetch request after seconds estimated', 'webhook_status': '', 'fetch_result': 'https://stablediffusionapi.com/api/v3/dreambooth/fetch/51661231', 'id': 51661231, 'output': [], 'meta': {'prompt': \"portrait+ style A whimsical illustration of Adhik joyfully experiencing his zodiac prediction for the year: [insert zodiac prediction here]. Captured in a serene setting with soft lighting accentuating his warm smile and bright, dreamy eyes. The portrait, reminiscent of a blend between Makoto Shinkai and Stanley Artgerm Lau's art styles, showcases a hopeful Adhik, with intricate colored hair, gazing optimistically towards the sky, embodying the essence of his astrological forecast. The detailed digital painting vividly portrays the harmonious colors and emotions of the moment, as Adhik stands amidst a gently blooming garden, symbolizing the promising year ahead. hyperrealistic, full body, detailed clothing, highly detailed, cinematic lighting, stunningly beautiful, intricate, sharp focus, f/1. 8, 85mm, (centered image composition), (professionally color graded), ((bright soft diffused light)), volumetric fog, trending on instagram, trending on tumblr, HDR 4K, 8K\", 'model_id': '2utUQxLpZbNoAJh05TWMvcHDq', 'negative_prompt': 'painting, extra fingers, mutated hands, poorly drawn hands, poorly drawn face, deformed, ugly, blurry, bad anatomy, bad proportions, extra limbs, cloned face, skinny, glitchy, double torso, extra arms, extra hands, mangled fingers, missing lips, ugly face, distorted face, extra legs, anime(child:1.5), ((((underage)))), ((((child)))), (((kid))), (((preteen))), (teen:1.5) ugly, tiling, poorly drawn hands, poorly drawn feet, poorly drawn face, out of frame, extra limbs, disfigured, deformed, body out of frame, bad anatomy, watermark, signature, cut off, low contrast, underexposed, overexposed, bad art, beginner, amateur, distorted face, blurry, draft, grainy', 'scheduler': 'UniPCMultistepScheduler', 'safety_checker': 'no', 'W': 1400, 'H': 1000, 'guidance_scale': 7.5, 'seed': 4078858537, 'steps': 20, 'n_samples': 1, 'full_url': 'no', 'tomesd': 'yes', 'upscale': 'no', 'multi_lingual': 'no', 'panorama': 'no', 'self_attention': 'no', 'use_karras_sigmas': 'yes', 'embeddings': None, 'vae': None, 'lora': None, 'lora_strength': 1, 'clip_skip': 1, 'temp': 'no', 'base64': 'no', 'file_prefix': 'e651eaaf-1c19-46a6-aa84-60a885688278.png'}, 'future_links': ['https://cdn2.stablediffusionapi.com/generations/0-e651eaaf-1c19-46a6-aa84-60a885688278.png']}"
   ]
  },
  {
   "cell_type": "markdown",
   "id": "85b9fbba-0191-4506-a97d-29a036125271",
   "metadata": {},
   "source": [
    "# Images for prompts"
   ]
  },
  {
   "cell_type": "markdown",
   "id": "566d1571-6cb0-41ec-81a4-6cd99f15b74e",
   "metadata": {},
   "source": [
    "### Prompt 3"
   ]
  },
  {
   "cell_type": "code",
   "execution_count": 109,
   "id": "de13b1d6-0020-48e8-b61a-44f4b64d3e4e",
   "metadata": {},
   "outputs": [
    {
     "name": "stdout",
     "output_type": "stream",
     "text": [
      "actual 8K portrait photo of adhik person, action photo, bright eyes, clear eyes, warm smile, big dreamy eyes, beautiful intricate colored hair, symmetrical, anime wide eyes, soft lighting, detailed face, by Paul Laffoley, Bess Hamiti, Matt Molloy, Amy Giacomelli, Metal Gear Solid, concept art, digital painting, looking into camera\n"
     ]
    }
   ],
   "source": [
    "print(prompt_3)"
   ]
  },
  {
   "cell_type": "code",
   "execution_count": 123,
   "id": "6c509b6a-2f4b-4f4d-948b-dee5a0ea4d53",
   "metadata": {
    "scrolled": true
   },
   "outputs": [
    {
     "data": {
      "text/html": [
       "<img src=\"https://cdn2.stablediffusionapi.com/generations/0-6412182c-aa83-4df6-82ad-36917ae1fba6.png\"/>"
      ],
      "text/plain": [
       "<IPython.core.display.Image object>"
      ]
     },
     "execution_count": 123,
     "metadata": {},
     "output_type": "execute_result"
    }
   ],
   "source": [
    "#Image(url='https://cdn2.stablediffusionapi.com/generations/0-6412182c-aa83-4df6-82ad-36917ae1fba6.png') "
   ]
  },
  {
   "cell_type": "code",
   "execution_count": 21,
   "id": "43ee543d-63f9-49a1-91f7-0e98fc876d4d",
   "metadata": {},
   "outputs": [],
   "source": [
    "#Image(url='https://cdn2.stablediffusionapi.com/generations/0-66a336d3-98f2-480e-98ea-734a911c86df.png') "
   ]
  },
  {
   "cell_type": "code",
   "execution_count": 22,
   "id": "afc118e5-a956-4cbc-91e3-4378104dcfc8",
   "metadata": {},
   "outputs": [],
   "source": [
    "#Image(url='https://cdn2.stablediffusionapi.com/generations/0-091e0403-b123-47a7-87bc-40c4af1faafd.png') "
   ]
  },
  {
   "cell_type": "code",
   "execution_count": null,
   "id": "667e8c58-ac92-4857-93cd-7f7149203846",
   "metadata": {},
   "outputs": [],
   "source": []
  },
  {
   "cell_type": "code",
   "execution_count": null,
   "id": "77bbe928-c752-4d80-961b-04d5fead50f2",
   "metadata": {},
   "outputs": [],
   "source": [
    "prompt = \"adhik\"\n"
   ]
  },
  {
   "cell_type": "code",
   "execution_count": null,
   "id": "814d1a82-0836-4d43-9216-16cc37e03ebb",
   "metadata": {},
   "outputs": [],
   "source": []
  },
  {
   "cell_type": "code",
   "execution_count": null,
   "id": "15277714-a9cf-41f1-9dee-310a385d6700",
   "metadata": {},
   "outputs": [],
   "source": []
  },
  {
   "cell_type": "code",
   "execution_count": null,
   "id": "a64aecfc-31e7-412e-8ccd-7cb7c7b54afd",
   "metadata": {},
   "outputs": [],
   "source": []
  },
  {
   "cell_type": "code",
   "execution_count": null,
   "id": "3ba04f9e-f24b-4a83-a3f2-2f66056f25b2",
   "metadata": {},
   "outputs": [],
   "source": []
  }
 ],
 "metadata": {
  "kernelspec": {
   "display_name": "Python 3 (ipykernel)",
   "language": "python",
   "name": "python3"
  },
  "language_info": {
   "codemirror_mode": {
    "name": "ipython",
    "version": 3
   },
   "file_extension": ".py",
   "mimetype": "text/x-python",
   "name": "python",
   "nbconvert_exporter": "python",
   "pygments_lexer": "ipython3",
   "version": "3.9.13"
  }
 },
 "nbformat": 4,
 "nbformat_minor": 5
}
