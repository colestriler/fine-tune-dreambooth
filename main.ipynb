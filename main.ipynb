{
 "cells": [
  {
   "cell_type": "code",
   "execution_count": 208,
   "id": "8ed0efc8-ee7d-421a-a676-229cd8e19353",
   "metadata": {},
   "outputs": [],
   "source": [
    "import os\n",
    "import dotenv\n",
    "import requests\n",
    "import json\n",
    "from io import BytesIO\n",
    "import time\n",
    "\n",
    "from IPython.display import display, Image, HTML\n",
    "import openai\n",
    "import pandas as pd\n",
    "\n",
    "import matplotlib.pyplot as plt\n",
    "import matplotlib.image as mpimg\n",
    "from matplotlib import rcParams"
   ]
  },
  {
   "cell_type": "code",
   "execution_count": 18,
   "id": "34a07716-e75d-4fa1-b4c9-3e6c9e46601f",
   "metadata": {},
   "outputs": [],
   "source": [
    "# Access variables\n",
    "dotenv.load_dotenv('.env')\n",
    "\n",
    "stable_diffusion_api_key = os.getenv('STABLE_DIFFUSION_API_KEY')\n",
    "openai.api_key = os.getenv(\"OPENAI_API_KEY\")"
   ]
  },
  {
   "cell_type": "markdown",
   "id": "f53a9a0c-e684-42e3-a9e5-f89414fd0e0c",
   "metadata": {},
   "source": [
    "## Table of Contents (outdated):\n",
    "\n",
    "IMAGE\n",
    "* [Fine-tuning model](#Fine-tuning-model)\n",
    "    * [Check training status](#Check-training-status)\n",
    "* [Generate new image](#Generate-new-image)\n",
    "* [Images for prompts](#Images-for-prompts)\n",
    "    * [Prompt 3](#Prompt-3)\n",
    " \n",
    "\n",
    "### Prompt tuning resources:\n",
    "- [https://stable-diffusion-art.com/prompt-guide/](https://stable-diffusion-art.com/prompt-guide/)\n",
    "- [https://midlibrary.io/styles/metal-gear-solid](https://midlibrary.io/styles/metal-gear-solid)\n",
    "\n",
    "\n",
    "### Keyword categories:\n",
    "1. **Subject**: The subject is what you want to see in the image. A common mistake is not writing enough about the subjects.\n",
    "2. **Medium**: Medium is the material used to make artwork. Some examples are illustration, oil painting, 3D rendering, and photography. Medium has a strong effect because one keyword alone can dramatically change the style.\n",
    "3. **Style**: The style refers to the artistic style of the image. Examples include impressionist, surrealist, pop art, etc.\n",
    "4. **Artist**: Artist names are strong modifiers. They allow you to dial in the exact style using a particular artist as a reference. It is also common to use multiple artist names to blend their styles. Now let’s add Stanley Artgerm Lau, a superhero comic artist, and Alphonse Mucha, a portrait painter in the 19th century.\n",
    "5. **Website**: Niche graphic websites such as Artstation and Deviant Art aggregate many images of distinct genres. Using them in a prompt is a sure way to steer the image toward these styles.\n",
    "6. **Resolution**: Resolution represents how sharp and detailed the image is. Let’s add keywords highly detailed and sharp focus.\n",
    "7. **Additional details**: Additional details are sweeteners added to modify an image. We will add sci-fi, stunningly beautiful and dystopian to add some vibe to the image.\n",
    "8. **Color**: You can control the overall color of the image by adding color keywords. The colors you specified may appear as a tone or in objects.\n",
    "9. **Lighting**: Any photographer would tell you lighting is a key factor in creating successful images. Lighting keywords can have a huge effect on how the image looks. Let’s add cinematic lighting and dark to the prompt."
   ]
  },
  {
   "cell_type": "code",
   "execution_count": 19,
   "id": "bd71d72f-d065-412c-89de-8852323bbf45",
   "metadata": {},
   "outputs": [],
   "source": [
    "message_prompt = \"\"\"Give me a birthday card message with an astrology prediction \n",
    "for the upcoming year for a person born on 3/24. Their zodiac sign is Aries. \n",
    "Make it personal and keep it around one paragraph in length. Do not mention their \n",
    "birthday in the response. Focus on the astrology prediction for the upcoming year. \n",
    "Do not include salutations or complimentary closings.\"\"\""
   ]
  },
  {
   "cell_type": "code",
   "execution_count": 26,
   "id": "ef647299-74c1-4370-ae1f-14d8971f1ea7",
   "metadata": {},
   "outputs": [],
   "source": [
    "message_response = openai.ChatCompletion.create(\n",
    "    model=\"gpt-3.5-turbo\",\n",
    "    messages=[\n",
    "        {\"role\": \"system\", \"content\": \"You are a birthday card writer and astrology predictor.\"},\n",
    "        {\"role\": \"user\", \"content\": message_prompt},\n",
    "    ]\n",
    ")"
   ]
  },
  {
   "cell_type": "code",
   "execution_count": 27,
   "id": "811b1ce6-afac-4058-a3a6-89811ad37d66",
   "metadata": {},
   "outputs": [
    {
     "data": {
      "text/plain": [
       "'Happy birthday to an adventurous and passionate Aries! As the stars align for you this year, get ready for an exciting journey filled with new beginnings, personal growth, and abundant opportunities. Your courageous nature will be your greatest strength, pushing you to step out of your comfort zone and embrace bold challenges. The universe will fuel your ambition, allowing you to manifest your dreams and achieve remarkable success. However, remember to balance your fiery energy with patience and diplomacy, as it will be key to maintaining harmonious relationships. Trust your instincts, trust the universe, and prepare for a year of extraordinary possibilities.'"
      ]
     },
     "execution_count": 27,
     "metadata": {},
     "output_type": "execute_result"
    }
   ],
   "source": [
    "message_response.choices[0].message.content"
   ]
  },
  {
   "cell_type": "code",
   "execution_count": 20,
   "id": "e437a0ff-1683-4594-9895-e7ba6c04452c",
   "metadata": {},
   "outputs": [],
   "source": [
    "df = pd.DataFrame()"
   ]
  },
  {
   "cell_type": "markdown",
   "id": "62e93946-4011-4f0d-9665-5a169850015c",
   "metadata": {},
   "source": [
    "# Fine-tuning model\n",
    "Note: images must be cropped to 512 x 512 pixels"
   ]
  },
  {
   "cell_type": "markdown",
   "id": "43208355-f20a-40b0-b6fd-b26321c88851",
   "metadata": {},
   "source": [
    "Model Output:\n",
    "```\n",
    "{\n",
    "    \"status\":\"success\",\n",
    "    \"messege\":\"deploying_gpu\",\n",
    "    \"data\":\"it will take upto 45 minutes.\",\n",
    "    \"training_id\":\"2utUQxLpZbNoAJh05TWMvcHDq\",\n",
    "    \"model_id\":\"2utUQxLpZbNoAJh05TWMvcHDq\"\n",
    "}\n",
    "```"
   ]
  },
  {
   "cell_type": "code",
   "execution_count": 13,
   "id": "196afa1a-10e7-4a54-9e83-6d384f24b82d",
   "metadata": {},
   "outputs": [
    {
     "name": "stdout",
     "output_type": "stream",
     "text": [
      "{\"status\":\"success\",\"messege\":\"deploying_gpu\",\"data\":\"it will take upto 45 minutes.\",\"training_id\":\"2utUQxLpZbNoAJh05TWMvcHDq\",\"model_id\":\"2utUQxLpZbNoAJh05TWMvcHDq\"}\n"
     ]
    }
   ],
   "source": [
    "url = \"https://stablediffusionapi.com/api/v3/fine_tune\"\n",
    "\n",
    "payload = json.dumps({\n",
    "  \"key\": stable_diffusion_api_key,\n",
    "  \"instance_prompt\": \"photo of adhik person\",\n",
    "  \"class_prompt\": \"photo of person\",\n",
    "  \"base_model_id\": \"portraitplus-diffusion\",\n",
    "  \"images\": [\n",
    "    \"https://birthdate-public.s3.amazonaws.com/user-uploads/train_1.png\",\n",
    "    \"https://birthdate-public.s3.amazonaws.com/user-uploads/train_2.png\",\n",
    "    \"https://birthdate-public.s3.amazonaws.com/user-uploads/train_3.png\",\n",
    "    \"https://birthdate-public.s3.amazonaws.com/user-uploads/train_4.png\",\n",
    "    \"https://birthdate-public.s3.amazonaws.com/user-uploads/train_5.png\",\n",
    "    \"https://birthdate-public.s3.amazonaws.com/user-uploads/train_6.png\",\n",
    "    \"https://birthdate-public.s3.amazonaws.com/user-uploads/train_7.png\",\n",
    "    \"https://birthdate-public.s3.amazonaws.com/user-uploads/train_8.png\",\n",
    "    \"https://birthdate-public.s3.amazonaws.com/user-uploads/train_9.png\",\n",
    "    \"https://birthdate-public.s3.amazonaws.com/user-uploads/train_10.png\"\n",
    "  ],\n",
    "  \"seed\": \"0\",\n",
    "  \"training_type\": \"men\",\n",
    "  \"max_train_steps\": \"2000\",\n",
    "  \"webhook\": \"\"\n",
    "})\n",
    "\n",
    "headers = {\n",
    "  'Content-Type': 'application/json'\n",
    "}\n",
    "\n",
    "training_response = requests.request(\"POST\", url, headers=headers, data=payload)\n",
    "training_response_json = json.loads(response.text)\n",
    "print(training_response_json)"
   ]
  },
  {
   "cell_type": "code",
   "execution_count": 43,
   "id": "eaac5ece-0b2a-4b0d-bd5b-401238753563",
   "metadata": {},
   "outputs": [],
   "source": [
    "# model_id = response_json[\"model_id\"]\n",
    "model_id = \"2utUQxLpZbNoAJh05TWMvcHDq\"\n",
    "# training_id = response_json[\"training_id\"]\n",
    "training_id = \"2utUQxLpZbNoAJh05TWMvcHDq\""
   ]
  },
  {
   "cell_type": "markdown",
   "id": "3527a3b9-3527-4273-9ea2-35a0242d238e",
   "metadata": {},
   "source": [
    "# Check training status"
   ]
  },
  {
   "cell_type": "code",
   "execution_count": 9,
   "id": "77815065-b64d-4f51-8eae-a4b0b94229ad",
   "metadata": {
    "scrolled": true
   },
   "outputs": [],
   "source": [
    "url = f\"https://stablediffusionapi.com/api/v3/fine_tune_status/{model_id}\"\n",
    "\n",
    "payload = json.dumps({\n",
    " \"key\": stable_diffusion_api_key\n",
    "})\n",
    "\n",
    "headers = {\n",
    "  'Content-Type': 'application/json'\n",
    "}\n",
    "\n",
    "training_status_response = requests.request(\"POST\", url, headers=headers, data=payload)"
   ]
  },
  {
   "cell_type": "code",
   "execution_count": 10,
   "id": "fa1256a8-3bff-4ae6-8f52-167199c04109",
   "metadata": {},
   "outputs": [],
   "source": [
    "training_status_response_json = json.loads(training_status_response.text)"
   ]
  },
  {
   "cell_type": "code",
   "execution_count": 11,
   "id": "55dc19db-0707-4fed-b1c7-22a0042a1f8a",
   "metadata": {},
   "outputs": [
    {
     "name": "stdout",
     "output_type": "stream",
     "text": [
      "Model is ready to use\n",
      "0 minutes\n",
      "https://pub-3626123a908346a7a8be8d9295f44e26.r2.dev/trained-models/2utUQxLpZbNoAJh05TWMvcHDq.tar.gz\n",
      "https://pub-3626123a908346a7a8be8d9295f44e26.r2.dev/generations/2utUQxLpZbNoAJh05TWMvcHDq.png\n"
     ]
    }
   ],
   "source": [
    "print(training_status_response_json[\"message\"])\n",
    "print(training_status_response_json[\"eta\"])\n",
    "print(training_status_response_json[\"model_download_link\"])\n",
    "print(training_status_response_json[\"test_image\"])"
   ]
  },
  {
   "cell_type": "markdown",
   "id": "3cc1ecbe-2216-4c63-a793-e36f07e2deb7",
   "metadata": {},
   "source": [
    "# Generate new image"
   ]
  },
  {
   "cell_type": "code",
   "execution_count": 149,
   "id": "5584e5bd-1ea6-4ad0-8e4b-15745409907a",
   "metadata": {},
   "outputs": [],
   "source": [
    "model_config = {\n",
    "  \"key\": stable_diffusion_api_key,\n",
    "  \"model_id\": model_id,\n",
    "  \"prompt\": prompt_3,\n",
    "  \"negative_prompt\": negative_prompt,\n",
    "  \"width\": \"1024\",\n",
    "  \"height\": \"728\",\n",
    "  \"samples\": \"1\",\n",
    "  \"num_inference_steps\": \"30\",\n",
    "  \"safety_checker\": \"no\",\n",
    "  \"enhance_prompt\": \"yes\",\n",
    "  \"seed\": None,\n",
    "  \"guidance_scale\": 7.5,\n",
    "  \"multi_lingual\": \"no\",\n",
    "  \"panorama\": \"no\",\n",
    "  \"self_attention\": \"yes\",\n",
    "  \"upscale\": \"yes\",\n",
    "  \"embeddings_model\": None,\n",
    "  \"lora_model\": None,\n",
    "  \"tomesd\": \"yes\",\n",
    "  \"use_karras_sigmas\": \"yes\",\n",
    "  \"vae\": None,\n",
    "  \"lora_strength\": None,\n",
    "  \"scheduler\": \"UniPCMultistepScheduler\",\n",
    "  \"webhook\": None,\n",
    "  \"track_id\": None\n",
    "}\n",
    "\n",
    "payload = json.dumps(model_config)"
   ]
  },
  {
   "cell_type": "code",
   "execution_count": 230,
   "id": "f8d343bb-accf-461e-979e-448897200959",
   "metadata": {},
   "outputs": [],
   "source": [
    "headers = {\n",
    "  'Content-Type': 'application/json'\n",
    "}\n",
    "\n",
    "def generate_img(prompt, config_override):\n",
    "    options = {\"prompt\": prompt}\n",
    "    config = json.dumps({**config_override, **options})  # Merge dictionaries using dictionary unpacking\n",
    "    response = requests.request(\"POST\", \"https://stablediffusionapi.com/api/v4/dreambooth\", headers=headers, data=config)\n",
    "    response_json = json.loads(response.text)\n",
    "    return response_json\n",
    "\n",
    "\n",
    "\n",
    "def compare(*prompts, options={}):\n",
    "    combined_config = {**model_config, **options}\n",
    "    image_urls = []  # List to hold the URLs of generated images\n",
    "\n",
    "    # Ensure there is at least one prompt\n",
    "    if not prompts:\n",
    "        raise ValueError(\"At least one prompt is required\")\n",
    "\n",
    "    # Base prompt is the first prompt\n",
    "    base_prompt = prompts[0]\n",
    "    print(f\"Base prompt: {base_prompt}\")\n",
    "\n",
    "    first_image = generate_img(base_prompt, combined_config)[\"future_links\"][0]\n",
    "\n",
    "    for i, additional_prompt in enumerate(prompts[1:], start=1):\n",
    "        # Build up the prompt by combining base_prompt with all preceding prompts\n",
    "        combined_prompt = f\"{base_prompt}, {', '.join(prompts[1:i+1])}\"\n",
    "        print(f\"Prompt #{i+1}: {combined_prompt}\")\n",
    "        response_json = generate_img(combined_prompt, combined_config)\n",
    "        image_url = response_json[\"future_links\"][0]\n",
    "        image_urls.append(image_url)\n",
    "\n",
    "    return [first_image] + image_urls  # Return the base image URL and all other image URLs\n",
    "\n",
    "\n",
    "# def display_images(image_urls):\n",
    "#     headers = {\n",
    "#         \"User-Agent\": \"Mozilla/5.0 (Windows NT 10.0; Win64; x64) AppleWebKit/537.36 (KHTML, like Gecko) Chrome/58.0.3029.110 Safari/537.3\"\n",
    "#     }\n",
    "\n",
    "#     def fetch_image(url):\n",
    "#         response = requests.get(url, headers=headers)\n",
    "#         return Image(data=BytesIO(response.content).getvalue(), width=300)\n",
    "    \n",
    "#     # If image_urls is a single string, make it a list\n",
    "#     if isinstance(image_urls, str):\n",
    "#         image_urls = [image_urls]\n",
    "    \n",
    "#     images = [fetch_image(url) for url in image_urls]  # Fetch all images\n",
    "#     display(*images)  # Display all images\n",
    "\n",
    "def display_images(image_urls):\n",
    "    headers = {\n",
    "        \"User-Agent\": \"Mozilla/5.0 (Windows NT 10.0; Win64; x64) AppleWebKit/537.36 (KHTML, like Gecko) Chrome/58.0.3029.110 Safari/537.3\"\n",
    "    }\n",
    "\n",
    "    def fetch_image(url):\n",
    "        response = requests.get(url, headers=headers)\n",
    "        # Return an HTML img element\n",
    "        return f'<img src=\"{url}\" style=\"display:inline-block; margin:1px; width:300px;\" />'\n",
    "\n",
    "    # If image_urls is a single string, make it a list\n",
    "    if isinstance(image_urls, str):\n",
    "        image_urls = [image_urls]\n",
    "\n",
    "    images_html = [fetch_image(url) for url in image_urls]  # Fetch all images\n",
    "    # Join all img elements into a single string of HTML and display it\n",
    "    display(HTML(''.join(images_html)))\n"
   ]
  },
  {
   "cell_type": "code",
   "execution_count": 191,
   "id": "1f77d731-83e0-42cb-bd3e-5b90ec4525ef",
   "metadata": {},
   "outputs": [
    {
     "name": "stdout",
     "output_type": "stream",
     "text": [
      "Image #1: adhik digital art\n",
      "Image #2: adhik digital art motorcycle\n"
     ]
    }
   ],
   "source": [
    "urls = compare(\"adhik\", \"digital art\", \"motorcycle\")"
   ]
  },
  {
   "cell_type": "code",
   "execution_count": 194,
   "id": "7fc20b67-22e2-4754-ba59-4cb748dbf977",
   "metadata": {},
   "outputs": [
    {
     "data": {
      "text/html": [
       "<img src=\"https://cdn2.stablediffusionapi.com/generations/0-36ea5b45-2ac2-40bd-a476-f2a6b737dee7.png\" style=\"display:inline-block; margin:1px; width:300px;\" /><img src=\"https://cdn2.stablediffusionapi.com/generations/0-f2cea0f3-6b1c-422d-9806-bd3eea60fad9.png\" style=\"display:inline-block; margin:1px; width:300px;\" /><img src=\"https://cdn2.stablediffusionapi.com/generations/0-f8d89236-1691-4b18-a3d4-ba2e005bcf19.png\" style=\"display:inline-block; margin:1px; width:300px;\" />"
      ],
      "text/plain": [
       "<IPython.core.display.HTML object>"
      ]
     },
     "metadata": {},
     "output_type": "display_data"
    }
   ],
   "source": [
    "display_images(urls_1)"
   ]
  },
  {
   "cell_type": "code",
   "execution_count": 210,
   "id": "36b09d77-d1b7-4577-9376-54ed56589401",
   "metadata": {},
   "outputs": [],
   "source": [
    "imgs_2 = compare(\"adhik\", \"digital art\", \"motorcycle\")"
   ]
  },
  {
   "cell_type": "code",
   "execution_count": 211,
   "id": "919ec032-762e-4aab-9395-c349fbfe404f",
   "metadata": {},
   "outputs": [
    {
     "data": {
      "text/plain": [
       "['https://cdn2.stablediffusionapi.com/generations/0-8896e79a-6587-4c2b-808f-2de8ab9a845f.png',\n",
       " 'https://cdn2.stablediffusionapi.com/generations/0-2c97647e-0bb4-4ef1-acaf-fedf06b508bc.png',\n",
       " 'https://cdn2.stablediffusionapi.com/generations/0-f2cfb4c1-ecb4-4470-b487-0c67d25b81d5.png']"
      ]
     },
     "execution_count": 211,
     "metadata": {},
     "output_type": "execute_result"
    }
   ],
   "source": [
    "imgs_2"
   ]
  },
  {
   "cell_type": "code",
   "execution_count": 213,
   "id": "63a02782-00ce-43ca-a21b-f44447e87964",
   "metadata": {},
   "outputs": [
    {
     "data": {
      "text/html": [
       "<img src=\"https://cdn2.stablediffusionapi.com/generations/0-8896e79a-6587-4c2b-808f-2de8ab9a845f.png\" style=\"display:inline-block; margin:1px; width:300px;\" /><img src=\"https://cdn2.stablediffusionapi.com/generations/0-2c97647e-0bb4-4ef1-acaf-fedf06b508bc.png\" style=\"display:inline-block; margin:1px; width:300px;\" /><img src=\"https://cdn2.stablediffusionapi.com/generations/0-f2cfb4c1-ecb4-4470-b487-0c67d25b81d5.png\" style=\"display:inline-block; margin:1px; width:300px;\" />"
      ],
      "text/plain": [
       "<IPython.core.display.HTML object>"
      ]
     },
     "metadata": {},
     "output_type": "display_data"
    }
   ],
   "source": [
    "display_images(imgs_2)"
   ]
  },
  {
   "cell_type": "code",
   "execution_count": 231,
   "id": "c0f16614-8578-4b0f-8f06-eb11f8da0e53",
   "metadata": {},
   "outputs": [
    {
     "name": "stdout",
     "output_type": "stream",
     "text": [
      "Base prompt: adhik\n",
      "Prompt #2: adhik, sun\n",
      "Prompt #3: adhik, sun, nature\n",
      "Prompt #4: adhik, sun, nature, trees\n"
     ]
    },
    {
     "data": {
      "text/plain": [
       "['https://cdn2.stablediffusionapi.com/generations/0-94c8ec07-4263-4ec1-86af-9c01f98b35d5.png',\n",
       " 'https://cdn2.stablediffusionapi.com/generations/0-2ffedd53-792a-4edd-bbba-369f3ebc907b.png',\n",
       " 'https://cdn2.stablediffusionapi.com/generations/0-902e7310-d7ff-4a01-90d6-f32c32fc07af.png',\n",
       " 'https://cdn2.stablediffusionapi.com/generations/0-a46092e1-94dc-4e6f-ac93-1dc4c2fd1c8f.png']"
      ]
     },
     "execution_count": 231,
     "metadata": {},
     "output_type": "execute_result"
    }
   ],
   "source": [
    "imgs_3 = compare(\"adhik\", \"sun\", \"nature\", \"trees\")\n",
    "imgs_3"
   ]
  },
  {
   "cell_type": "code",
   "execution_count": 236,
   "id": "b678bd5a-3aa5-4f69-bb17-72f402aa9374",
   "metadata": {},
   "outputs": [
    {
     "data": {
      "text/html": [
       "<img src=\"https://cdn2.stablediffusionapi.com/generations/0-94c8ec07-4263-4ec1-86af-9c01f98b35d5.png\" style=\"display:inline-block; margin:1px; width:300px;\" /><img src=\"https://cdn2.stablediffusionapi.com/generations/0-2ffedd53-792a-4edd-bbba-369f3ebc907b.png\" style=\"display:inline-block; margin:1px; width:300px;\" /><img src=\"https://cdn2.stablediffusionapi.com/generations/0-902e7310-d7ff-4a01-90d6-f32c32fc07af.png\" style=\"display:inline-block; margin:1px; width:300px;\" /><img src=\"https://cdn2.stablediffusionapi.com/generations/0-a46092e1-94dc-4e6f-ac93-1dc4c2fd1c8f.png\" style=\"display:inline-block; margin:1px; width:300px;\" />"
      ],
      "text/plain": [
       "<IPython.core.display.HTML object>"
      ]
     },
     "metadata": {},
     "output_type": "display_data"
    }
   ],
   "source": [
    "display_images(imgs_3)"
   ]
  },
  {
   "cell_type": "code",
   "execution_count": null,
   "id": "12da2554-4568-4522-a2ca-7aad87f9eb55",
   "metadata": {},
   "outputs": [],
   "source": []
  },
  {
   "cell_type": "code",
   "execution_count": null,
   "id": "96d91a00-8122-4031-96db-8bf477eac4a5",
   "metadata": {},
   "outputs": [],
   "source": []
  },
  {
   "cell_type": "code",
   "execution_count": null,
   "id": "ba315988-b5ca-4bee-8ab2-bce5d122d30e",
   "metadata": {},
   "outputs": [],
   "source": []
  },
  {
   "cell_type": "code",
   "execution_count": null,
   "id": "420dab2f-125a-4ed0-8fad-56b251fbd9ce",
   "metadata": {},
   "outputs": [],
   "source": []
  },
  {
   "cell_type": "code",
   "execution_count": null,
   "id": "7f97cc44-597d-4980-95f0-45752025ad7c",
   "metadata": {},
   "outputs": [],
   "source": []
  },
  {
   "cell_type": "code",
   "execution_count": null,
   "id": "2b77d63c-0f7a-4f04-96ac-73be57067d85",
   "metadata": {},
   "outputs": [],
   "source": []
  },
  {
   "cell_type": "code",
   "execution_count": 13,
   "id": "a14c1e50-9fde-4c3c-bb3b-51b64f5cee46",
   "metadata": {},
   "outputs": [],
   "source": [
    "# PROMPTS\n",
    "\n",
    "original_prompt = \"\"\"actual 8K portrait photo of adhik person, \\\n",
    "portrait, happy colors, bright eyes, clear eyes, warm smile, \\\n",
    "smooth soft skin, big dreamy eyes, beautiful intricate colored \\\n",
    "hair, symmetrical, anime wide eyes, soft lighting, detailed face, \\\n",
    "by makoto shinkai, stanley artgerm lau, wlop, rossdraws, concept art, \\\n",
    "digital painting, looking into camera\"\"\"\n",
    "\n",
    "prompt_1 = \"\"\"A whimsical illustration of Adhik joyfully experiencing \\\n",
    "his zodiac prediction for the year: [insert zodiac prediction here]. \\\n",
    "Captured in a serene setting with soft lighting accentuating his warm smile \\\n",
    "and bright, dreamy eyes. The portrait, reminiscent of a blend between Makoto \\\n",
    "Shinkai and Stanley Artgerm Lau's art styles, showcases a hopeful Adhik, with \\\n",
    "intricate colored hair, gazing optimistically towards the sky, embodying the \\\n",
    "essence of his astrological forecast. The detailed digital painting vividly \\\n",
    "portrays the harmonious colors and emotions of the moment, as Adhik stands amidst \\\n",
    "a gently blooming garden, symbolizing the promising year ahead.\"\"\"\n",
    "\n",
    "prompt_2 = \"\"\"An enchanting depiction of Adhik embarking on a daring adventure \\\n",
    "symbolizing his Aries spirit. The image captures a courageous Adhik stepping out \\ \n",
    "from the familiar into a realm filled with new beginnings and endless opportunities, \\ \n",
    "embodying the essence of personal growth. With a determined gaze and a heart full \\\n",
    "of ambition, he stands at the threshold of a vibrant new world that beckons. The soft \\\n",
    "lighting illuminates his path, highlighting the excitement in his big, dreamy eyes \\\n",
    "and the warm, reassuring smile on his face. His intricate colored hair flows gracefully \\\n",
    "in the wind, adding a whimsical touch to this moment of remarkable potential. The art \\\n",
    "style, a blend of Makoto Shinkai’s ethereal scenery and Stanley Artgerm Lau's evocative \\\n",
    "character design, portrays a blend of courage, anticipation, and the promise of a fulfilling \\\n",
    "year ahead. Every element of this digital painting, from Adhik’s expressive stance to the \\\n",
    "expansive horizon that lays ahead, resonates with the adventurous and passionate energy of \\\n",
    "Aries, promising a year of extraordinary possibilities.\"\"\"\n",
    "\n",
    "prompt_3 = \"\"\"actual 8K portrait photo of adhik person, \\\n",
    "action photo, bright eyes, clear eyes, warm smile, determined eyes, \\\n",
    "beautiful intricate colored hair, symmetrical, anime wide eyes, soft lighting, \\\n",
    "detailed face, by Paul Laffoley, Bess Hamiti, Matt Molloy, Amy Giacomelli, \\\n",
    "concept art, digital painting, looking into camera, birthday card\"\"\"\n",
    "\n",
    "negative_prompt = \"\"\"painting, extra fingers, mutated hands, poorly drawn hands, \\\n",
    "poorly drawn face, deformed, ugly, blurry, bad anatomy, bad proportions, extra limbs, \\\n",
    "cloned face, skinny, glitchy, double torso, extra arms, extra hands, mangled fingers, \\\n",
    "missing lips, ugly face, distorted face, extra legs, anime, naked, no shirt\"\"\"\n"
   ]
  },
  {
   "cell_type": "code",
   "execution_count": 45,
   "id": "af5ab69c-8d38-455c-a230-37b2119d9f08",
   "metadata": {
    "scrolled": true
   },
   "outputs": [
    {
     "name": "stdout",
     "output_type": "stream",
     "text": [
      "{'status': 'processing', 'tip': 'Get 20x faster image generation using enterprise plan. Click here : https://stablediffusionapi.com/enterprise', 'tip_1': 'Your image is processing in background, you can get this image using fetch API: here is link for fetch api : https://stablediffusionapi.com/docs/community-models-api-v4/dreamboothfetchqueimg', 'eta': 8.238667458754739, 'messege': 'Try to fetch request after seconds estimated', 'webhook_status': '', 'fetch_result': 'https://stablediffusionapi.com/api/v3/dreambooth/fetch/51707832', 'id': 51707832, 'output': [], 'meta': {'prompt': 'portrait+ style actual 8K portrait photo of adhik person, action photo, bright eyes, clear eyes, warm smile, determined eyes, beautiful intricate colored hair, symmetrical, anime wide eyes, soft lighting, detailed face, by Paul Laffoley, Bess Hamiti, Matt Molloy, Amy Giacomelli, concept art, digital painting, looking into camera, birthday card hyperrealistic, full body, detailed clothing, highly detailed, cinematic lighting, stunningly beautiful, intricate, sharp focus, f/1. 8, 85mm, (centered image composition), (professionally color graded), ((bright soft diffused light)), volumetric fog, trending on instagram, trending on tumblr, HDR 4K, 8K', 'model_id': '2utUQxLpZbNoAJh05TWMvcHDq', 'negative_prompt': 'painting, extra fingers, mutated hands, poorly drawn hands, poorly drawn face, deformed, ugly, blurry, bad anatomy, bad proportions, extra limbs, cloned face, skinny, glitchy, double torso, extra arms, extra hands, mangled fingers, missing lips, ugly face, distorted face, extra legs, anime, naked, no shirt(child:1.5), ((((underage)))), ((((child)))), (((kid))), (((preteen))), (teen:1.5) ugly, tiling, poorly drawn hands, poorly drawn feet, poorly drawn face, out of frame, extra limbs, disfigured, deformed, body out of frame, bad anatomy, watermark, signature, cut off, low contrast, underexposed, overexposed, bad art, beginner, amateur, distorted face, blurry, draft, grainy', 'scheduler': 'UniPCMultistepScheduler', 'safety_checker': 'no', 'W': 1024, 'H': 728, 'guidance_scale': 7.5, 'seed': 2383738275, 'steps': 20, 'n_samples': 1, 'full_url': 'no', 'tomesd': 'yes', 'upscale': 2, 'multi_lingual': 'no', 'panorama': 'no', 'self_attention': 'yes', 'use_karras_sigmas': 'yes', 'embeddings': None, 'vae': None, 'lora': None, 'lora_strength': 1, 'clip_skip': 1, 'temp': 'no', 'base64': 'no', 'file_prefix': '2d59c61b-c860-4ce5-8803-5af01d10930d.png'}, 'future_links': ['https://cdn2.stablediffusionapi.com/generations/0-2d59c61b-c860-4ce5-8803-5af01d10930d.png']}\n"
     ]
    }
   ],
   "source": [
    "url = \"https://stablediffusionapi.com/api/v4/dreambooth\"\n",
    "\n",
    "headers = {\n",
    "  'Content-Type': 'application/json'\n",
    "}\n",
    "\n",
    "gen_response = requests.request(\"POST\", url, headers=headers, data=payload)\n",
    "gen_response_json = json.loads(gen_response.text)\n",
    "print(gen_response_json)"
   ]
  },
  {
   "cell_type": "code",
   "execution_count": 46,
   "id": "a86d2977-91a0-47f4-aa06-69f62f71f7b8",
   "metadata": {},
   "outputs": [
    {
     "name": "stdout",
     "output_type": "stream",
     "text": [
      "{'status': 'processing', 'tip': 'Get 20x faster image generation using enterprise plan. Click here : https://stablediffusionapi.com/enterprise', 'tip_1': 'Your image is processing in background, you can get this image using fetch API: here is link for fetch api : https://stablediffusionapi.com/docs/community-models-api-v4/dreamboothfetchqueimg', 'eta': 8.238667458754739, 'messege': 'Try to fetch request after seconds estimated', 'webhook_status': '', 'fetch_result': 'https://stablediffusionapi.com/api/v3/dreambooth/fetch/51707832', 'id': 51707832, 'output': [], 'meta': {'prompt': 'portrait+ style actual 8K portrait photo of adhik person, action photo, bright eyes, clear eyes, warm smile, determined eyes, beautiful intricate colored hair, symmetrical, anime wide eyes, soft lighting, detailed face, by Paul Laffoley, Bess Hamiti, Matt Molloy, Amy Giacomelli, concept art, digital painting, looking into camera, birthday card hyperrealistic, full body, detailed clothing, highly detailed, cinematic lighting, stunningly beautiful, intricate, sharp focus, f/1. 8, 85mm, (centered image composition), (professionally color graded), ((bright soft diffused light)), volumetric fog, trending on instagram, trending on tumblr, HDR 4K, 8K', 'model_id': '2utUQxLpZbNoAJh05TWMvcHDq', 'negative_prompt': 'painting, extra fingers, mutated hands, poorly drawn hands, poorly drawn face, deformed, ugly, blurry, bad anatomy, bad proportions, extra limbs, cloned face, skinny, glitchy, double torso, extra arms, extra hands, mangled fingers, missing lips, ugly face, distorted face, extra legs, anime, naked, no shirt(child:1.5), ((((underage)))), ((((child)))), (((kid))), (((preteen))), (teen:1.5) ugly, tiling, poorly drawn hands, poorly drawn feet, poorly drawn face, out of frame, extra limbs, disfigured, deformed, body out of frame, bad anatomy, watermark, signature, cut off, low contrast, underexposed, overexposed, bad art, beginner, amateur, distorted face, blurry, draft, grainy', 'scheduler': 'UniPCMultistepScheduler', 'safety_checker': 'no', 'W': 1024, 'H': 728, 'guidance_scale': 7.5, 'seed': 2383738275, 'steps': 20, 'n_samples': 1, 'full_url': 'no', 'tomesd': 'yes', 'upscale': 2, 'multi_lingual': 'no', 'panorama': 'no', 'self_attention': 'yes', 'use_karras_sigmas': 'yes', 'embeddings': None, 'vae': None, 'lora': None, 'lora_strength': 1, 'clip_skip': 1, 'temp': 'no', 'base64': 'no', 'file_prefix': '2d59c61b-c860-4ce5-8803-5af01d10930d.png'}, 'future_links': ['https://cdn2.stablediffusionapi.com/generations/0-2d59c61b-c860-4ce5-8803-5af01d10930d.png']}\n"
     ]
    }
   ],
   "source": [
    "fetch_url = gen_response_json[\"fetch_result\"]\n",
    "\n",
    "payload = json.dumps({\n",
    "  \"key\": stable_diffusion_api_key,\n",
    "})\n",
    "\n",
    "headers = {\n",
    "  'Content-Type': 'application/json'\n",
    "}\n",
    "\n",
    "fetch_response = requests.request(\"POST\", fetch_url, headers=headers, data=payload)\n",
    "fetch_response_json = json.loads(gen_response.text)\n",
    "print(fetch_response_json)"
   ]
  },
  {
   "cell_type": "markdown",
   "id": "166365d7-097f-4c6e-9f87-230c11abfaf0",
   "metadata": {},
   "source": [
    "{'status': 'processing', 'tip': 'Get 20x faster image generation using enterprise plan. Click here : https://stablediffusionapi.com/enterprise', 'tip_1': 'Your image is processing in background, you can get this image using fetch API: here is link for fetch api : https://stablediffusionapi.com/docs/community-models-api-v4/dreamboothfetchqueimg', 'eta': 21.20322994262903, 'messege': 'Try to fetch request after seconds estimated', 'webhook_status': '', 'fetch_result': 'https://stablediffusionapi.com/api/v3/dreambooth/fetch/51661231', 'id': 51661231, 'output': [], 'meta': {'prompt': \"portrait+ style A whimsical illustration of Adhik joyfully experiencing his zodiac prediction for the year: [insert zodiac prediction here]. Captured in a serene setting with soft lighting accentuating his warm smile and bright, dreamy eyes. The portrait, reminiscent of a blend between Makoto Shinkai and Stanley Artgerm Lau's art styles, showcases a hopeful Adhik, with intricate colored hair, gazing optimistically towards the sky, embodying the essence of his astrological forecast. The detailed digital painting vividly portrays the harmonious colors and emotions of the moment, as Adhik stands amidst a gently blooming garden, symbolizing the promising year ahead. hyperrealistic, full body, detailed clothing, highly detailed, cinematic lighting, stunningly beautiful, intricate, sharp focus, f/1. 8, 85mm, (centered image composition), (professionally color graded), ((bright soft diffused light)), volumetric fog, trending on instagram, trending on tumblr, HDR 4K, 8K\", 'model_id': '2utUQxLpZbNoAJh05TWMvcHDq', 'negative_prompt': 'painting, extra fingers, mutated hands, poorly drawn hands, poorly drawn face, deformed, ugly, blurry, bad anatomy, bad proportions, extra limbs, cloned face, skinny, glitchy, double torso, extra arms, extra hands, mangled fingers, missing lips, ugly face, distorted face, extra legs, anime(child:1.5), ((((underage)))), ((((child)))), (((kid))), (((preteen))), (teen:1.5) ugly, tiling, poorly drawn hands, poorly drawn feet, poorly drawn face, out of frame, extra limbs, disfigured, deformed, body out of frame, bad anatomy, watermark, signature, cut off, low contrast, underexposed, overexposed, bad art, beginner, amateur, distorted face, blurry, draft, grainy', 'scheduler': 'UniPCMultistepScheduler', 'safety_checker': 'no', 'W': 1400, 'H': 1000, 'guidance_scale': 7.5, 'seed': 4078858537, 'steps': 20, 'n_samples': 1, 'full_url': 'no', 'tomesd': 'yes', 'upscale': 'no', 'multi_lingual': 'no', 'panorama': 'no', 'self_attention': 'no', 'use_karras_sigmas': 'yes', 'embeddings': None, 'vae': None, 'lora': None, 'lora_strength': 1, 'clip_skip': 1, 'temp': 'no', 'base64': 'no', 'file_prefix': 'e651eaaf-1c19-46a6-aa84-60a885688278.png'}, 'future_links': ['https://cdn2.stablediffusionapi.com/generations/0-e651eaaf-1c19-46a6-aa84-60a885688278.png']}"
   ]
  },
  {
   "cell_type": "markdown",
   "id": "85b9fbba-0191-4506-a97d-29a036125271",
   "metadata": {},
   "source": [
    "# Images for prompts"
   ]
  },
  {
   "cell_type": "markdown",
   "id": "566d1571-6cb0-41ec-81a4-6cd99f15b74e",
   "metadata": {},
   "source": [
    "### Prompt 3"
   ]
  },
  {
   "cell_type": "code",
   "execution_count": 109,
   "id": "de13b1d6-0020-48e8-b61a-44f4b64d3e4e",
   "metadata": {},
   "outputs": [
    {
     "name": "stdout",
     "output_type": "stream",
     "text": [
      "actual 8K portrait photo of adhik person, action photo, bright eyes, clear eyes, warm smile, big dreamy eyes, beautiful intricate colored hair, symmetrical, anime wide eyes, soft lighting, detailed face, by Paul Laffoley, Bess Hamiti, Matt Molloy, Amy Giacomelli, Metal Gear Solid, concept art, digital painting, looking into camera\n"
     ]
    }
   ],
   "source": [
    "print(prompt_3)"
   ]
  },
  {
   "cell_type": "code",
   "execution_count": 123,
   "id": "6c509b6a-2f4b-4f4d-948b-dee5a0ea4d53",
   "metadata": {
    "scrolled": true
   },
   "outputs": [
    {
     "data": {
      "text/html": [
       "<img src=\"https://cdn2.stablediffusionapi.com/generations/0-6412182c-aa83-4df6-82ad-36917ae1fba6.png\"/>"
      ],
      "text/plain": [
       "<IPython.core.display.Image object>"
      ]
     },
     "execution_count": 123,
     "metadata": {},
     "output_type": "execute_result"
    }
   ],
   "source": [
    "#Image(url='https://cdn2.stablediffusionapi.com/generations/0-6412182c-aa83-4df6-82ad-36917ae1fba6.png') "
   ]
  },
  {
   "cell_type": "code",
   "execution_count": 21,
   "id": "43ee543d-63f9-49a1-91f7-0e98fc876d4d",
   "metadata": {},
   "outputs": [],
   "source": [
    "#Image(url='https://cdn2.stablediffusionapi.com/generations/0-66a336d3-98f2-480e-98ea-734a911c86df.png') "
   ]
  },
  {
   "cell_type": "code",
   "execution_count": 22,
   "id": "afc118e5-a956-4cbc-91e3-4378104dcfc8",
   "metadata": {},
   "outputs": [],
   "source": [
    "#Image(url='https://cdn2.stablediffusionapi.com/generations/0-091e0403-b123-47a7-87bc-40c4af1faafd.png') "
   ]
  },
  {
   "cell_type": "code",
   "execution_count": null,
   "id": "667e8c58-ac92-4857-93cd-7f7149203846",
   "metadata": {},
   "outputs": [],
   "source": []
  },
  {
   "cell_type": "code",
   "execution_count": null,
   "id": "77bbe928-c752-4d80-961b-04d5fead50f2",
   "metadata": {},
   "outputs": [],
   "source": [
    "prompt = \"adhik\"\n"
   ]
  },
  {
   "cell_type": "code",
   "execution_count": null,
   "id": "814d1a82-0836-4d43-9216-16cc37e03ebb",
   "metadata": {},
   "outputs": [],
   "source": []
  },
  {
   "cell_type": "code",
   "execution_count": null,
   "id": "15277714-a9cf-41f1-9dee-310a385d6700",
   "metadata": {},
   "outputs": [],
   "source": []
  },
  {
   "cell_type": "code",
   "execution_count": null,
   "id": "a64aecfc-31e7-412e-8ccd-7cb7c7b54afd",
   "metadata": {},
   "outputs": [],
   "source": []
  },
  {
   "cell_type": "code",
   "execution_count": null,
   "id": "3ba04f9e-f24b-4a83-a3f2-2f66056f25b2",
   "metadata": {},
   "outputs": [],
   "source": []
  }
 ],
 "metadata": {
  "kernelspec": {
   "display_name": "Python 3 (ipykernel)",
   "language": "python",
   "name": "python3"
  },
  "language_info": {
   "codemirror_mode": {
    "name": "ipython",
    "version": 3
   },
   "file_extension": ".py",
   "mimetype": "text/x-python",
   "name": "python",
   "nbconvert_exporter": "python",
   "pygments_lexer": "ipython3",
   "version": "3.9.13"
  }
 },
 "nbformat": 4,
 "nbformat_minor": 5
}
