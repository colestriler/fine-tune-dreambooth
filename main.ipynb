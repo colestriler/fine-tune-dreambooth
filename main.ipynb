{
 "cells": [
  {
   "cell_type": "code",
   "execution_count": 101,
   "id": "8ed0efc8-ee7d-421a-a676-229cd8e19353",
   "metadata": {},
   "outputs": [],
   "source": [
    "import dotenv\n",
    "import os\n",
    "import requests\n",
    "import json\n",
    "import openai\n",
    "from IPython.display import Image"
   ]
  },
  {
   "cell_type": "code",
   "execution_count": 3,
   "id": "34a07716-e75d-4fa1-b4c9-3e6c9e46601f",
   "metadata": {},
   "outputs": [],
   "source": [
    "# Access variables\n",
    "dotenv.load_dotenv('.env')\n",
    "\n",
    "stable_diffusion_api_key = os.getenv('STABLE_DIFFUSION_API_KEY')\n",
    "openai.api_key = os.getenv(\"OPENAI_API_KEY\")"
   ]
  },
  {
   "cell_type": "markdown",
   "id": "f53a9a0c-e684-42e3-a9e5-f89414fd0e0c",
   "metadata": {},
   "source": [
    "## Table of Contents:\n",
    "MESSAGE\n",
    "* [Generate the card message](#Generate-the-card-message)\n",
    "* [Generate the prompt for the image](#Generate-the-prompt-for-the-image)\n",
    "\n",
    "IMAGE\n",
    "* [Fine-tuning model](#Fine-tuning-model)\n",
    "    * [Check training status](#Check-training-status)\n",
    "* [Generate new image](#Generate-new-image)\n",
    "* [Images for prompts](#Images-for-prompts)\n",
    "    * [Prompt 3](#Prompt-3)"
   ]
  },
  {
   "cell_type": "markdown",
   "id": "4a4ed173-adfa-448b-91b2-60c40b8be702",
   "metadata": {},
   "source": [
    "# Generate the card message"
   ]
  },
  {
   "cell_type": "code",
   "execution_count": 25,
   "id": "bd71d72f-d065-412c-89de-8852323bbf45",
   "metadata": {},
   "outputs": [],
   "source": [
    "message_prompt = \"\"\"Give me a birthday card message with an astrology prediction \n",
    "for the upcoming year for a person born on 3/24. Their zodiac sign is Aries. \n",
    "Make it personal and keep it around one paragraph in length. Do not mention their \n",
    "birthday in the response. Focus on the astrology prediction for the upcoming year. \n",
    "Do not include salutations or complimentary closings.\"\"\""
   ]
  },
  {
   "cell_type": "code",
   "execution_count": 26,
   "id": "ef647299-74c1-4370-ae1f-14d8971f1ea7",
   "metadata": {},
   "outputs": [],
   "source": [
    "message_response = openai.ChatCompletion.create(\n",
    "    model=\"gpt-3.5-turbo\",\n",
    "    messages=[\n",
    "        {\"role\": \"system\", \"content\": \"You are a birthday card writer and astrology predictor.\"},\n",
    "        {\"role\": \"user\", \"content\": message_prompt},\n",
    "    ]\n",
    ")"
   ]
  },
  {
   "cell_type": "code",
   "execution_count": 27,
   "id": "811b1ce6-afac-4058-a3a6-89811ad37d66",
   "metadata": {},
   "outputs": [
    {
     "data": {
      "text/plain": [
       "'Happy birthday to an adventurous and passionate Aries! As the stars align for you this year, get ready for an exciting journey filled with new beginnings, personal growth, and abundant opportunities. Your courageous nature will be your greatest strength, pushing you to step out of your comfort zone and embrace bold challenges. The universe will fuel your ambition, allowing you to manifest your dreams and achieve remarkable success. However, remember to balance your fiery energy with patience and diplomacy, as it will be key to maintaining harmonious relationships. Trust your instincts, trust the universe, and prepare for a year of extraordinary possibilities.'"
      ]
     },
     "execution_count": 27,
     "metadata": {},
     "output_type": "execute_result"
    }
   ],
   "source": [
    "message_response.choices[0].message.content"
   ]
  },
  {
   "cell_type": "markdown",
   "id": "5f3db411-7d42-4cc0-aedd-6fe2d96c870c",
   "metadata": {},
   "source": [
    "# Generate the prompt for the image"
   ]
  },
  {
   "cell_type": "code",
   "execution_count": null,
   "id": "7958dc67-ba7f-48df-a44a-3cc17ee74355",
   "metadata": {},
   "outputs": [],
   "source": [
    " // Generate prompt for image\n",
    "  const promptForImagePrompt = ``;\n",
    "\n",
    "  const chatCompletion = await openai.chat.completions.create({\n",
    "    messages: [{ role: 'user', content: promptForImagePrompt }],\n",
    "    model: 'gpt-3.5-turbo',\n",
    "  });"
   ]
  },
  {
   "cell_type": "code",
   "execution_count": 97,
   "id": "f4d4be05-b712-4109-97b5-cbd3f5e54c05",
   "metadata": {},
   "outputs": [],
   "source": [
    "prompt_for_image_prompt = f\"\"\"The following is a zodiac prediction for a person \n",
    "for the upcoming year. Generate a prompt that will create a highres image of the \n",
    "person living in their prediction. Only return the prompt with no decoration: {message_prompt}\"\"\""
   ]
  },
  {
   "cell_type": "code",
   "execution_count": 32,
   "id": "b78ad46b-4cd2-4fb8-9532-4b8acb8eabfc",
   "metadata": {},
   "outputs": [],
   "source": [
    "image_prompt_response = openai.ChatCompletion.create(\n",
    "    model=\"gpt-3.5-turbo\",\n",
    "    messages=[\n",
    "        {\"role\": \"system\", \"content\": \"You are a prompt creator.\"},\n",
    "        {\"role\": \"user\", \"content\": prompt_for_image_prompt}\n",
    "    ]\n",
    ")"
   ]
  },
  {
   "cell_type": "code",
   "execution_count": 33,
   "id": "f46bd464-77f0-4c90-aa74-f7c1bfab2539",
   "metadata": {},
   "outputs": [
    {
     "data": {
      "text/plain": [
       "'Generate a high-res image of a person living their astrology prediction for the upcoming year.'"
      ]
     },
     "execution_count": 33,
     "metadata": {},
     "output_type": "execute_result"
    }
   ],
   "source": [
    "image_prompt_response.choices[0].message.content"
   ]
  },
  {
   "cell_type": "markdown",
   "id": "62e93946-4011-4f0d-9665-5a169850015c",
   "metadata": {},
   "source": [
    "# Fine-tuning model\n",
    "Note: images must be cropped to 512 x 512 pixels"
   ]
  },
  {
   "cell_type": "code",
   "execution_count": 13,
   "id": "196afa1a-10e7-4a54-9e83-6d384f24b82d",
   "metadata": {},
   "outputs": [
    {
     "name": "stdout",
     "output_type": "stream",
     "text": [
      "{\"status\":\"success\",\"messege\":\"deploying_gpu\",\"data\":\"it will take upto 45 minutes.\",\"training_id\":\"2utUQxLpZbNoAJh05TWMvcHDq\",\"model_id\":\"2utUQxLpZbNoAJh05TWMvcHDq\"}\n"
     ]
    }
   ],
   "source": [
    "url = \"https://stablediffusionapi.com/api/v3/fine_tune\"\n",
    "\n",
    "payload = json.dumps({\n",
    "  \"key\": stable_diffusion_api_key,\n",
    "  \"instance_prompt\": \"photo of adhik person\",\n",
    "  \"class_prompt\": \"photo of person\",\n",
    "  \"base_model_id\": \"portraitplus-diffusion\",\n",
    "  \"images\": [\n",
    "    \"https://birthdate-public.s3.amazonaws.com/user-uploads/train_1.png\",\n",
    "    \"https://birthdate-public.s3.amazonaws.com/user-uploads/train_2.png\",\n",
    "    \"https://birthdate-public.s3.amazonaws.com/user-uploads/train_3.png\",\n",
    "    \"https://birthdate-public.s3.amazonaws.com/user-uploads/train_4.png\",\n",
    "    \"https://birthdate-public.s3.amazonaws.com/user-uploads/train_5.png\",\n",
    "    \"https://birthdate-public.s3.amazonaws.com/user-uploads/train_6.png\",\n",
    "    \"https://birthdate-public.s3.amazonaws.com/user-uploads/train_7.png\",\n",
    "    \"https://birthdate-public.s3.amazonaws.com/user-uploads/train_8.png\",\n",
    "    \"https://birthdate-public.s3.amazonaws.com/user-uploads/train_9.png\",\n",
    "    \"https://birthdate-public.s3.amazonaws.com/user-uploads/train_10.png\"\n",
    "  ],\n",
    "  \"seed\": \"0\",\n",
    "  \"training_type\": \"men\",\n",
    "  \"max_train_steps\": \"2000\",\n",
    "  \"webhook\": \"\"\n",
    "})\n",
    "\n",
    "headers = {\n",
    "  'Content-Type': 'application/json'\n",
    "}\n",
    "\n",
    "training_response = requests.request(\"POST\", url, headers=headers, data=payload)\n",
    "training_response_json = json.loads(response.text)\n",
    "print(training_response_json)"
   ]
  },
  {
   "cell_type": "markdown",
   "id": "43208355-f20a-40b0-b6fd-b26321c88851",
   "metadata": {},
   "source": [
    "Model Output:\n",
    "```\n",
    "{\n",
    "    \"status\":\"success\",\n",
    "    \"messege\":\"deploying_gpu\",\n",
    "    \"data\":\"it will take upto 45 minutes.\",\n",
    "    \"training_id\":\"2utUQxLpZbNoAJh05TWMvcHDq\",\n",
    "    \"model_id\":\"2utUQxLpZbNoAJh05TWMvcHDq\"\n",
    "}\n",
    "```"
   ]
  },
  {
   "cell_type": "code",
   "execution_count": 6,
   "id": "eaac5ece-0b2a-4b0d-bd5b-401238753563",
   "metadata": {},
   "outputs": [],
   "source": [
    "# model_id = response_json[\"model_id\"]\n",
    "model_id = \"2utUQxLpZbNoAJh05TWMvcHDq\"\n",
    "# training_id = response_json[\"training_id\"]\n",
    "training_id = \"2utUQxLpZbNoAJh05TWMvcHDq\""
   ]
  },
  {
   "cell_type": "markdown",
   "id": "3527a3b9-3527-4273-9ea2-35a0242d238e",
   "metadata": {},
   "source": [
    "# Check training status"
   ]
  },
  {
   "cell_type": "code",
   "execution_count": 9,
   "id": "77815065-b64d-4f51-8eae-a4b0b94229ad",
   "metadata": {
    "scrolled": true
   },
   "outputs": [],
   "source": [
    "url = f\"https://stablediffusionapi.com/api/v3/fine_tune_status/{model_id}\"\n",
    "\n",
    "payload = json.dumps({\n",
    " \"key\": stable_diffusion_api_key\n",
    "})\n",
    "\n",
    "headers = {\n",
    "  'Content-Type': 'application/json'\n",
    "}\n",
    "\n",
    "training_status_response = requests.request(\"POST\", url, headers=headers, data=payload)"
   ]
  },
  {
   "cell_type": "code",
   "execution_count": 10,
   "id": "fa1256a8-3bff-4ae6-8f52-167199c04109",
   "metadata": {},
   "outputs": [],
   "source": [
    "training_status_response_json = json.loads(training_status_response.text)"
   ]
  },
  {
   "cell_type": "code",
   "execution_count": 11,
   "id": "55dc19db-0707-4fed-b1c7-22a0042a1f8a",
   "metadata": {},
   "outputs": [
    {
     "name": "stdout",
     "output_type": "stream",
     "text": [
      "Model is ready to use\n",
      "0 minutes\n",
      "https://pub-3626123a908346a7a8be8d9295f44e26.r2.dev/trained-models/2utUQxLpZbNoAJh05TWMvcHDq.tar.gz\n",
      "https://pub-3626123a908346a7a8be8d9295f44e26.r2.dev/generations/2utUQxLpZbNoAJh05TWMvcHDq.png\n"
     ]
    }
   ],
   "source": [
    "print(training_status_response_json[\"message\"])\n",
    "print(training_status_response_json[\"eta\"])\n",
    "print(training_status_response_json[\"model_download_link\"])\n",
    "print(training_status_response_json[\"test_image\"])"
   ]
  },
  {
   "cell_type": "markdown",
   "id": "3cc1ecbe-2216-4c63-a793-e36f07e2deb7",
   "metadata": {},
   "source": [
    "# Generate new image"
   ]
  },
  {
   "cell_type": "code",
   "execution_count": 116,
   "id": "a14c1e50-9fde-4c3c-bb3b-51b64f5cee46",
   "metadata": {},
   "outputs": [],
   "source": [
    "# PROMPTS\n",
    "\n",
    "original_prompt = \"\"\"actual 8K portrait photo of adhik person, \\\n",
    "portrait, happy colors, bright eyes, clear eyes, warm smile, \\\n",
    "smooth soft skin, big dreamy eyes, beautiful intricate colored \\\n",
    "hair, symmetrical, anime wide eyes, soft lighting, detailed face, \\\n",
    "by makoto shinkai, stanley artgerm lau, wlop, rossdraws, concept art, \\\n",
    "digital painting, looking into camera\"\"\"\n",
    "\n",
    "prompt_1 = \"\"\"A whimsical illustration of Adhik joyfully experiencing \\\n",
    "his zodiac prediction for the year: [insert zodiac prediction here]. \\\n",
    "Captured in a serene setting with soft lighting accentuating his warm smile \\\n",
    "and bright, dreamy eyes. The portrait, reminiscent of a blend between Makoto \\\n",
    "Shinkai and Stanley Artgerm Lau's art styles, showcases a hopeful Adhik, with \\\n",
    "intricate colored hair, gazing optimistically towards the sky, embodying the \\\n",
    "essence of his astrological forecast. The detailed digital painting vividly \\\n",
    "portrays the harmonious colors and emotions of the moment, as Adhik stands amidst \\\n",
    "a gently blooming garden, symbolizing the promising year ahead.\"\"\"\n",
    "\n",
    "prompt_2 = \"\"\"An enchanting depiction of Adhik embarking on a daring adventure \\\n",
    "symbolizing his Aries spirit. The image captures a courageous Adhik stepping out \\ \n",
    "from the familiar into a realm filled with new beginnings and endless opportunities, \\ \n",
    "embodying the essence of personal growth. With a determined gaze and a heart full \\\n",
    "of ambition, he stands at the threshold of a vibrant new world that beckons. The soft \\\n",
    "lighting illuminates his path, highlighting the excitement in his big, dreamy eyes \\\n",
    "and the warm, reassuring smile on his face. His intricate colored hair flows gracefully \\\n",
    "in the wind, adding a whimsical touch to this moment of remarkable potential. The art \\\n",
    "style, a blend of Makoto Shinkai’s ethereal scenery and Stanley Artgerm Lau's evocative \\\n",
    "character design, portrays a blend of courage, anticipation, and the promise of a fulfilling \\\n",
    "year ahead. Every element of this digital painting, from Adhik’s expressive stance to the \\\n",
    "expansive horizon that lays ahead, resonates with the adventurous and passionate energy of \\\n",
    "Aries, promising a year of extraordinary possibilities.\"\"\"\n",
    "\n",
    "prompt_3 = \"\"\"actual 8K portrait photo of adhik person, \\\n",
    "action photo, bright eyes, clear eyes, warm smile, determined eyes, \\\n",
    "beautiful intricate colored hair, symmetrical, anime wide eyes, soft lighting, \\\n",
    "detailed face, by Paul Laffoley, Bess Hamiti, Matt Molloy, Amy Giacomelli, \\\n",
    "concept art, digital painting, looking into camera, birthday card\"\"\"\n",
    "\n",
    "negative_prompt = \"\"\"painting, extra fingers, mutated hands, poorly drawn hands, \\\n",
    "poorly drawn face, deformed, ugly, blurry, bad anatomy, bad proportions, extra limbs, \\\n",
    "cloned face, skinny, glitchy, double torso, extra arms, extra hands, mangled fingers, \\\n",
    "missing lips, ugly face, distorted face, extra legs, anime, naked, no shirt\"\"\"\n"
   ]
  },
  {
   "cell_type": "code",
   "execution_count": 125,
   "id": "af5ab69c-8d38-455c-a230-37b2119d9f08",
   "metadata": {},
   "outputs": [
    {
     "name": "stdout",
     "output_type": "stream",
     "text": [
      "{'status': 'processing', 'tip': 'Get 20x faster image generation using enterprise plan. Click here : https://stablediffusionapi.com/enterprise', 'tip_1': 'Your image is processing in background, you can get this image using fetch API: here is link for fetch api : https://stablediffusionapi.com/docs/community-models-api-v4/dreamboothfetchqueimg', 'eta': 8.238667458754739, 'messege': 'Try to fetch request after seconds estimated', 'webhook_status': '', 'fetch_result': 'https://stablediffusionapi.com/api/v3/dreambooth/fetch/51668188', 'id': 51668188, 'output': [], 'meta': {'prompt': 'portrait+ style actual 8K portrait photo of adhik person, action photo, bright eyes, clear eyes, warm smile, determined eyes, beautiful intricate colored hair, symmetrical, anime wide eyes, soft lighting, detailed face, by Paul Laffoley, Bess Hamiti, Matt Molloy, Amy Giacomelli, concept art, digital painting, looking into camera, birthday card hyperrealistic, full body, detailed clothing, highly detailed, cinematic lighting, stunningly beautiful, intricate, sharp focus, f/1. 8, 85mm, (centered image composition), (professionally color graded), ((bright soft diffused light)), volumetric fog, trending on instagram, trending on tumblr, HDR 4K, 8K', 'model_id': '2utUQxLpZbNoAJh05TWMvcHDq', 'negative_prompt': 'painting, extra fingers, mutated hands, poorly drawn hands, poorly drawn face, deformed, ugly, blurry, bad anatomy, bad proportions, extra limbs, cloned face, skinny, glitchy, double torso, extra arms, extra hands, mangled fingers, missing lips, ugly face, distorted face, extra legs, anime, naked, no shirt(child:1.5), ((((underage)))), ((((child)))), (((kid))), (((preteen))), (teen:1.5) ugly, tiling, poorly drawn hands, poorly drawn feet, poorly drawn face, out of frame, extra limbs, disfigured, deformed, body out of frame, bad anatomy, watermark, signature, cut off, low contrast, underexposed, overexposed, bad art, beginner, amateur, distorted face, blurry, draft, grainy', 'scheduler': 'UniPCMultistepScheduler', 'safety_checker': 'no', 'W': 1024, 'H': 728, 'guidance_scale': 7.5, 'seed': 134998494, 'steps': 20, 'n_samples': 1, 'full_url': 'no', 'tomesd': 'yes', 'upscale': 2, 'multi_lingual': 'no', 'panorama': 'no', 'self_attention': 'yes', 'use_karras_sigmas': 'yes', 'embeddings': None, 'vae': None, 'lora': None, 'lora_strength': 1, 'clip_skip': 1, 'temp': 'no', 'base64': 'no', 'file_prefix': '091e0403-b123-47a7-87bc-40c4af1faafd.png'}, 'future_links': ['https://cdn2.stablediffusionapi.com/generations/0-091e0403-b123-47a7-87bc-40c4af1faafd.png']}\n"
     ]
    }
   ],
   "source": [
    "url = \"https://stablediffusionapi.com/api/v4/dreambooth\"\n",
    "\n",
    "payload = json.dumps({\n",
    "  \"key\": stable_diffusion_api_key,\n",
    "  \"model_id\": model_id,\n",
    "  \"prompt\": prompt_3,\n",
    "  \"negative_prompt\": negative_prompt,\n",
    "  \"width\": \"1024\",\n",
    "  \"height\": \"728\",\n",
    "  \"samples\": \"1\",\n",
    "  \"num_inference_steps\": \"30\",\n",
    "  \"safety_checker\": \"no\",\n",
    "  \"enhance_prompt\": \"yes\",\n",
    "  \"seed\": None,\n",
    "  \"guidance_scale\": 7.5,\n",
    "  \"multi_lingual\": \"no\",\n",
    "  \"panorama\": \"no\",\n",
    "  \"self_attention\": \"yes\",\n",
    "  \"upscale\": \"yes\",\n",
    "  \"embeddings_model\": None,\n",
    "  \"lora_model\": None,\n",
    "  \"tomesd\": \"yes\",\n",
    "  \"use_karras_sigmas\": \"yes\",\n",
    "  \"vae\": None,\n",
    "  \"lora_strength\": None,\n",
    "  \"scheduler\": \"UniPCMultistepScheduler\",\n",
    "  \"webhook\": None,\n",
    "  \"track_id\": None\n",
    "})\n",
    "\n",
    "headers = {\n",
    "  'Content-Type': 'application/json'\n",
    "}\n",
    "\n",
    "gen_response = requests.request(\"POST\", url, headers=headers, data=payload)\n",
    "gen_response_json = json.loads(gen_response.text)\n",
    "print(gen_response_json)"
   ]
  },
  {
   "cell_type": "code",
   "execution_count": 76,
   "id": "a86d2977-91a0-47f4-aa06-69f62f71f7b8",
   "metadata": {},
   "outputs": [
    {
     "name": "stdout",
     "output_type": "stream",
     "text": [
      "{'status': 'processing', 'tip': 'Get 20x faster image generation using enterprise plan. Click here : https://stablediffusionapi.com/enterprise', 'tip_1': 'Your image is processing in background, you can get this image using fetch API: here is link for fetch api : https://stablediffusionapi.com/docs/community-models-api-v4/dreamboothfetchqueimg', 'eta': 21.20322994262903, 'messege': 'Try to fetch request after seconds estimated', 'webhook_status': '', 'fetch_result': 'https://stablediffusionapi.com/api/v3/dreambooth/fetch/51661231', 'id': 51661231, 'output': [], 'meta': {'prompt': \"portrait+ style A whimsical illustration of Adhik joyfully experiencing his zodiac prediction for the year: [insert zodiac prediction here]. Captured in a serene setting with soft lighting accentuating his warm smile and bright, dreamy eyes. The portrait, reminiscent of a blend between Makoto Shinkai and Stanley Artgerm Lau's art styles, showcases a hopeful Adhik, with intricate colored hair, gazing optimistically towards the sky, embodying the essence of his astrological forecast. The detailed digital painting vividly portrays the harmonious colors and emotions of the moment, as Adhik stands amidst a gently blooming garden, symbolizing the promising year ahead. hyperrealistic, full body, detailed clothing, highly detailed, cinematic lighting, stunningly beautiful, intricate, sharp focus, f/1. 8, 85mm, (centered image composition), (professionally color graded), ((bright soft diffused light)), volumetric fog, trending on instagram, trending on tumblr, HDR 4K, 8K\", 'model_id': '2utUQxLpZbNoAJh05TWMvcHDq', 'negative_prompt': 'painting, extra fingers, mutated hands, poorly drawn hands, poorly drawn face, deformed, ugly, blurry, bad anatomy, bad proportions, extra limbs, cloned face, skinny, glitchy, double torso, extra arms, extra hands, mangled fingers, missing lips, ugly face, distorted face, extra legs, anime(child:1.5), ((((underage)))), ((((child)))), (((kid))), (((preteen))), (teen:1.5) ugly, tiling, poorly drawn hands, poorly drawn feet, poorly drawn face, out of frame, extra limbs, disfigured, deformed, body out of frame, bad anatomy, watermark, signature, cut off, low contrast, underexposed, overexposed, bad art, beginner, amateur, distorted face, blurry, draft, grainy', 'scheduler': 'UniPCMultistepScheduler', 'safety_checker': 'no', 'W': 1400, 'H': 1000, 'guidance_scale': 7.5, 'seed': 4078858537, 'steps': 20, 'n_samples': 1, 'full_url': 'no', 'tomesd': 'yes', 'upscale': 'no', 'multi_lingual': 'no', 'panorama': 'no', 'self_attention': 'no', 'use_karras_sigmas': 'yes', 'embeddings': None, 'vae': None, 'lora': None, 'lora_strength': 1, 'clip_skip': 1, 'temp': 'no', 'base64': 'no', 'file_prefix': 'e651eaaf-1c19-46a6-aa84-60a885688278.png'}, 'future_links': ['https://cdn2.stablediffusionapi.com/generations/0-e651eaaf-1c19-46a6-aa84-60a885688278.png']}\n"
     ]
    }
   ],
   "source": [
    "fetch_url = gen_response_json[\"fetch_result\"]\n",
    "\n",
    "payload = json.dumps({\n",
    "  \"key\": stable_diffusion_api_key,\n",
    "})\n",
    "\n",
    "headers = {\n",
    "  'Content-Type': 'application/json'\n",
    "}\n",
    "\n",
    "fetch_response = requests.request(\"POST\", fetch_url, headers=headers, data=payload)\n",
    "fetch_response_json = json.loads(gen_response.text)\n",
    "print(fetch_response_json)"
   ]
  },
  {
   "cell_type": "markdown",
   "id": "85b9fbba-0191-4506-a97d-29a036125271",
   "metadata": {},
   "source": [
    "# Images for prompts"
   ]
  },
  {
   "cell_type": "markdown",
   "id": "566d1571-6cb0-41ec-81a4-6cd99f15b74e",
   "metadata": {},
   "source": [
    "### Prompt 3"
   ]
  },
  {
   "cell_type": "code",
   "execution_count": 109,
   "id": "de13b1d6-0020-48e8-b61a-44f4b64d3e4e",
   "metadata": {},
   "outputs": [
    {
     "name": "stdout",
     "output_type": "stream",
     "text": [
      "actual 8K portrait photo of adhik person, action photo, bright eyes, clear eyes, warm smile, big dreamy eyes, beautiful intricate colored hair, symmetrical, anime wide eyes, soft lighting, detailed face, by Paul Laffoley, Bess Hamiti, Matt Molloy, Amy Giacomelli, Metal Gear Solid, concept art, digital painting, looking into camera\n"
     ]
    }
   ],
   "source": [
    "print(prompt_3)"
   ]
  },
  {
   "cell_type": "code",
   "execution_count": 123,
   "id": "6c509b6a-2f4b-4f4d-948b-dee5a0ea4d53",
   "metadata": {},
   "outputs": [
    {
     "data": {
      "text/html": [
       "<img src=\"https://cdn2.stablediffusionapi.com/generations/0-6412182c-aa83-4df6-82ad-36917ae1fba6.png\"/>"
      ],
      "text/plain": [
       "<IPython.core.display.Image object>"
      ]
     },
     "execution_count": 123,
     "metadata": {},
     "output_type": "execute_result"
    }
   ],
   "source": [
    "Image(url='https://cdn2.stablediffusionapi.com/generations/0-6412182c-aa83-4df6-82ad-36917ae1fba6.png') "
   ]
  },
  {
   "cell_type": "code",
   "execution_count": 127,
   "id": "43ee543d-63f9-49a1-91f7-0e98fc876d4d",
   "metadata": {},
   "outputs": [
    {
     "data": {
      "text/html": [
       "<img src=\"https://cdn2.stablediffusionapi.com/generations/0-66a336d3-98f2-480e-98ea-734a911c86df.png\"/>"
      ],
      "text/plain": [
       "<IPython.core.display.Image object>"
      ]
     },
     "execution_count": 127,
     "metadata": {},
     "output_type": "execute_result"
    }
   ],
   "source": [
    "Image(url='https://cdn2.stablediffusionapi.com/generations/0-66a336d3-98f2-480e-98ea-734a911c86df.png') "
   ]
  },
  {
   "cell_type": "code",
   "execution_count": 126,
   "id": "afc118e5-a956-4cbc-91e3-4378104dcfc8",
   "metadata": {},
   "outputs": [
    {
     "data": {
      "text/html": [
       "<img src=\"https://cdn2.stablediffusionapi.com/generations/0-091e0403-b123-47a7-87bc-40c4af1faafd.png\"/>"
      ],
      "text/plain": [
       "<IPython.core.display.Image object>"
      ]
     },
     "execution_count": 126,
     "metadata": {},
     "output_type": "execute_result"
    }
   ],
   "source": [
    "Image(url='https://cdn2.stablediffusionapi.com/generations/0-091e0403-b123-47a7-87bc-40c4af1faafd.png') "
   ]
  },
  {
   "cell_type": "code",
   "execution_count": null,
   "id": "667e8c58-ac92-4857-93cd-7f7149203846",
   "metadata": {},
   "outputs": [],
   "source": []
  }
 ],
 "metadata": {
  "kernelspec": {
   "display_name": "Python 3 (ipykernel)",
   "language": "python",
   "name": "python3"
  },
  "language_info": {
   "codemirror_mode": {
    "name": "ipython",
    "version": 3
   },
   "file_extension": ".py",
   "mimetype": "text/x-python",
   "name": "python",
   "nbconvert_exporter": "python",
   "pygments_lexer": "ipython3",
   "version": "3.9.13"
  }
 },
 "nbformat": 4,
 "nbformat_minor": 5
}
